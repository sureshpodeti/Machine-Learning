{
 "cells": [
  {
   "cell_type": "code",
   "execution_count": 74,
   "metadata": {},
   "outputs": [],
   "source": [
    "import numpy as np"
   ]
  },
  {
   "cell_type": "code",
   "execution_count": 88,
   "metadata": {},
   "outputs": [],
   "source": [
    "# data \n",
    "x = [1,2,3]\n",
    "y = [1,2,2]\n",
    "\n",
    "m,n = len(x), 2\n",
    "X = np.reshape(np.array(x),(m,1))\n",
    "\n",
    "ones = np.ones((m,1))\n",
    "A = np.hstack([ones, X])\n",
    "b = np.reshape(np.array(y), (m,1))"
   ]
  },
  {
   "cell_type": "code",
   "execution_count": 76,
   "metadata": {},
   "outputs": [],
   "source": [
    "# cost function defination \n",
    "def cost_function(A, b,m, theta):\n",
    "    return sum((np.dot(A, theta) - b)**2)[0] /(2*m)"
   ]
  },
  {
   "cell_type": "code",
   "execution_count": 105,
   "metadata": {},
   "outputs": [],
   "source": [
    "# gradient-descent algorithm - batch gradient algorithm\n",
    "\n",
    "def gradient_descent(theta, A, b, m, n, e=1e-5, alpha=0.01):\n",
    "    no_of_steps = 0\n",
    "    while True:\n",
    "        y_diff = (np.dot(A, theta) - b)\n",
    "        grad = np.dot(y_diff.T, A)\n",
    "        cost_prev = cost_function(A,b,m,theta) # get the cost from the cost function before updating\n",
    "        theta -= alpha*grad.T/m\n",
    "        # get  the cost after updating\n",
    "        cost_curr = cost_function(A,b,m,theta)\n",
    "        if abs(cost_prev - cost_curr) < e:\n",
    "            break\n",
    "        no_of_steps += 1\n",
    "    return (theta, no_of_steps)\n",
    "        "
   ]
  },
  {
   "cell_type": "code",
   "execution_count": 108,
   "metadata": {},
   "outputs": [
    {
     "data": {
      "text/plain": [
       "(array([[0.66642957],\n",
       "        [0.5001043 ]]), 608)"
      ]
     },
     "execution_count": 108,
     "metadata": {},
     "output_type": "execute_result"
    }
   ],
   "source": [
    "# initialize theta , the parameters to be estimated\n",
    "theta = np.zeros((n,1))\n",
    "\n",
    "# define error tolerance\n",
    "e = 1e-10\n",
    "\n",
    "# define learning rate\n",
    "alpha = 0.1\n",
    "gradient_descent(theta, A,b,m,n,e,alpha)"
   ]
  },
  {
   "cell_type": "code",
   "execution_count": 87,
   "metadata": {},
   "outputs": [],
   "source": [
    "from sklearn import linear_model"
   ]
  },
  {
   "cell_type": "code",
   "execution_count": 90,
   "metadata": {},
   "outputs": [
    {
     "data": {
      "text/plain": [
       "LinearRegression(copy_X=True, fit_intercept=True, n_jobs=1, normalize=False)"
      ]
     },
     "execution_count": 90,
     "metadata": {},
     "output_type": "execute_result"
    }
   ],
   "source": [
    "lrg = linear_model.LinearRegression()\n",
    "lrg.fit(np.reshape(np.array(x), (m,1)), y)"
   ]
  },
  {
   "cell_type": "code",
   "execution_count": 91,
   "metadata": {},
   "outputs": [
    {
     "data": {
      "text/plain": [
       "0.6666666666666672"
      ]
     },
     "execution_count": 91,
     "metadata": {},
     "output_type": "execute_result"
    }
   ],
   "source": [
    "lrg.intercept_"
   ]
  },
  {
   "cell_type": "code",
   "execution_count": 92,
   "metadata": {},
   "outputs": [
    {
     "data": {
      "text/plain": [
       "array([0.5])"
      ]
     },
     "execution_count": 92,
     "metadata": {},
     "output_type": "execute_result"
    }
   ],
   "source": [
    "lrg.coef_"
   ]
  },
  {
   "cell_type": "code",
   "execution_count": null,
   "metadata": {},
   "outputs": [],
   "source": []
  },
  {
   "cell_type": "code",
   "execution_count": null,
   "metadata": {},
   "outputs": [],
   "source": []
  }
 ],
 "metadata": {
  "kernelspec": {
   "display_name": "Python 3",
   "language": "python",
   "name": "python3"
  },
  "language_info": {
   "codemirror_mode": {
    "name": "ipython",
    "version": 3
   },
   "file_extension": ".py",
   "mimetype": "text/x-python",
   "name": "python",
   "nbconvert_exporter": "python",
   "pygments_lexer": "ipython3",
   "version": "3.4.3"
  }
 },
 "nbformat": 4,
 "nbformat_minor": 2
}
