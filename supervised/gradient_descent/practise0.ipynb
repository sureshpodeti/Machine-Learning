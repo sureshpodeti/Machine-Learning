{
 "cells": [
  {
   "cell_type": "code",
   "execution_count": 1,
   "metadata": {},
   "outputs": [
    {
     "name": "stderr",
     "output_type": "stream",
     "text": [
      "/usr/lib/python3.4/importlib/_bootstrap.py:321: RuntimeWarning: numpy.dtype size changed, may indicate binary incompatibility. Expected 96, got 88\n",
      "  return f(*args, **kwds)\n"
     ]
    }
   ],
   "source": [
    "import numpy as np\n",
    "import matplotlib.pyplot as plt\n",
    "from sklearn import model_selection"
   ]
  },
  {
   "cell_type": "code",
   "execution_count": 14,
   "metadata": {},
   "outputs": [],
   "source": [
    "# Assuming model\n",
    "# Model: h(x) = theta0 + theta1*x1\n",
    "data = np.array([[1,1],[2,2],[3,2]])\n",
    "\n",
    "x = data[:, :1]\n",
    "\n",
    "x_modf = np.hstack([np.ones((x.shape[0],1)), x])\n",
    "y = data[:, 1]\n",
    "y = np.reshape(y,(y.shape[0],1))"
   ]
  },
  {
   "cell_type": "code",
   "execution_count": 26,
   "metadata": {},
   "outputs": [],
   "source": [
    "def compute_cost(x, y, parameters):\n",
    "    m = x.shape[0]\n",
    "    return np.sum((np.dot(x, parameters) - y)**2)/(2*m)"
   ]
  },
  {
   "cell_type": "code",
   "execution_count": 24,
   "metadata": {},
   "outputs": [],
   "source": [
    "def  gradient_descent_algorithm(x, y, alpha=0.01, error=1e-5):\n",
    "    # define parameters\n",
    "    parameters = np.zeros((x.shape[1],1))\n",
    "    m = x.shape[0]\n",
    "    no_of_iterations = 0\n",
    "    while True:\n",
    "        prev_cost =  compute_cost(x,y,parameters)\n",
    "        # update the parameters \n",
    "        parameters -= (alpha/m)* np.dot(x.T, (np.dot(x, parameters)-y))\n",
    "        curr_cost = compute_cost(x,y,parameters)\n",
    "        if abs(prev_cost - curr_cost) < error:\n",
    "            break\n",
    "        no_of_iterations += 1\n",
    "        \n",
    "    return (parameters, no_of_iterations)"
   ]
  },
  {
   "cell_type": "code",
   "execution_count": 34,
   "metadata": {},
   "outputs": [],
   "source": [
    "alpha = 0.01\n",
    "error = 1e-10\n",
    "(parameters, no_of_iterations) = gradient_descent_algorithm(x_modf, y, alpha, error )"
   ]
  },
  {
   "cell_type": "code",
   "execution_count": 36,
   "metadata": {},
   "outputs": [],
   "source": [
    "y_pred = np.dot(x_modf, parameters)"
   ]
  },
  {
   "cell_type": "code",
   "execution_count": 37,
   "metadata": {},
   "outputs": [
    {
     "data": {
      "image/png": "[encoded data removed]",
      "text/plain": [
       "<Figure size 432x288 with 1 Axes>"
      ]
     },
     "metadata": {},
     "output_type": "display_data"
    }
   ],
   "source": [
    "fig, aux = plt.subplots()\n",
    "aux.plot(x_modf[:, 1], y, 'bo', x_modf[:, 1], y_pred, 'r-')\n",
    "plt.show()"
   ]
  },
  {
   "cell_type": "code",
   "execution_count": 35,
   "metadata": {},
   "outputs": [
    {
     "data": {
      "text/plain": [
       "array([[0.66590606],\n",
       "       [0.50033459]])"
      ]
     },
     "execution_count": 35,
     "metadata": {},
     "output_type": "execute_result"
    }
   ],
   "source": [
    "parameters"
   ]
  },
  {
   "cell_type": "code",
   "execution_count": null,
   "metadata": {},
   "outputs": [],
   "source": []
  }
 ],
 "metadata": {
  "kernelspec": {
   "display_name": "Python 3",
   "language": "python",
   "name": "python3"
  },
  "language_info": {
   "codemirror_mode": {
    "name": "ipython",
    "version": 3
   },
   "file_extension": ".py",
   "mimetype": "text/x-python",
   "name": "python",
   "nbconvert_exporter": "python",
   "pygments_lexer": "ipython3",
   "version": "3.4.3"
  }
 },
 "nbformat": 4,
 "nbformat_minor": 2
}
