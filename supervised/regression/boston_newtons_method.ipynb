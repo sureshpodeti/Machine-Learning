{
 "cells": [
  {
   "cell_type": "code",
   "execution_count": 1,
   "metadata": {},
   "outputs": [],
   "source": [
    "import numpy as np\n",
    "from sklearn import datasets, preprocessing, model_selection,linear_model\n",
    "import matplotlib.pyplot as plt"
   ]
  },
  {
   "cell_type": "code",
   "execution_count": 2,
   "metadata": {},
   "outputs": [],
   "source": [
    "# Load the dataset\n",
    "boston = datasets.load_boston()\n",
    "n = len(boston.feature_names) + 1\n",
    "\n",
    "x = boston.data\n",
    "m = x.shape[0]\n",
    "y = np.reshape(boston.target,(m,1))"
   ]
  },
  {
   "cell_type": "code",
   "execution_count": 3,
   "metadata": {},
   "outputs": [],
   "source": [
    "## Dataset preprocessing\n",
    "\n",
    "# feature scaling and mean normalization\n",
    "x = preprocessing.scale(x)\n",
    "\n",
    "# split the data into train, and test data\n",
    "x_train, x_test, y_train, y_test = model_selection.train_test_split(x, y, test_size=0.3, random_state=42)\n",
    "\n",
    "# constructing matrices\n",
    "m = x_train.shape[0]\n",
    "\n",
    "ones = np.ones((m,1))\n",
    "A_train = np.hstack([ones, x_train])\n",
    "b_train = y_train"
   ]
  },
  {
   "cell_type": "code",
   "execution_count": 4,
   "metadata": {},
   "outputs": [],
   "source": [
    "# cost function \n",
    "def cost_function(theta, A, b, m):\n",
    "    return sum((np.dot(A,theta) - b)**2)[0]/(2*m)"
   ]
  },
  {
   "cell_type": "code",
   "execution_count": 5,
   "metadata": {},
   "outputs": [],
   "source": [
    "# newtons optimization algorithm\n",
    "def newtons_method(theta, A, b, m,n, e=1e-5, alpha=0.01):\n",
    "    no_of_steps = 0\n",
    "    while True:\n",
    "        cost_prev = cost_function(theta, A, b, m)\n",
    "        grad =  (np.dot((np.dot(A,theta) - b).T, A).T) # gradient vector\n",
    "        hessian_matrix = np.dot(A.T, A) # hessian matrix\n",
    "        theta -= (alpha/m) * np.dot(np.linalg.inv(hessian_matrix), grad)\n",
    "        cost_curr = cost_function(theta, A,b,m)\n",
    "        \n",
    "        if abs(cost_prev - cost_curr) < e:\n",
    "            break\n",
    "        no_of_steps += 1\n",
    "    return (theta, no_of_steps)"
   ]
  },
  {
   "cell_type": "code",
   "execution_count": 7,
   "metadata": {},
   "outputs": [
    {
     "data": {
      "text/plain": [
       "(array([[22.50739037],\n",
       "        [-1.14027429],\n",
       "        [ 0.83366079],\n",
       "        [ 0.34229627],\n",
       "        [ 0.79198269],\n",
       "        [-1.79079393],\n",
       "        [ 2.84182348],\n",
       "        [-0.30233844],\n",
       "        [-2.9176563 ],\n",
       "        [ 2.10809923],\n",
       "        [-1.46326448],\n",
       "        [-1.97225147],\n",
       "        [ 1.08927797],\n",
       "        [-3.90990939]]), 37594)"
      ]
     },
     "execution_count": 7,
     "metadata": {},
     "output_type": "execute_result"
    }
   ],
   "source": [
    "# initialize the parameters ;theta\n",
    "theta = np.zeros((n,1))\n",
    "\n",
    "# define error tolerance ; e\n",
    "e = 1e-10\n",
    "\n",
    "# define learning rate ; alpha\n",
    "alpha = 0.1\n",
    "\n",
    "newtons_method(theta, A_train, b_train , m,n, e, alpha)"
   ]
  },
  {
   "cell_type": "code",
   "execution_count": 8,
   "metadata": {},
   "outputs": [
    {
     "data": {
      "text/plain": [
       "LinearRegression(copy_X=True, fit_intercept=True, n_jobs=1, normalize=False)"
      ]
     },
     "execution_count": 8,
     "metadata": {},
     "output_type": "execute_result"
    }
   ],
   "source": [
    "# using skearn linear_model\n",
    "lgr = linear_model.LinearRegression()\n",
    "lgr.fit(x_train, y_train)"
   ]
  },
  {
   "cell_type": "code",
   "execution_count": 9,
   "metadata": {},
   "outputs": [
    {
     "data": {
      "text/plain": [
       "array([22.50793922])"
      ]
     },
     "execution_count": 9,
     "metadata": {},
     "output_type": "execute_result"
    }
   ],
   "source": [
    "lgr.intercept_"
   ]
  },
  {
   "cell_type": "code",
   "execution_count": 10,
   "metadata": {},
   "outputs": [
    {
     "data": {
      "text/plain": [
       "array([[-1.14030209,  0.83368112,  0.34230461,  0.792002  , -1.7908376 ,\n",
       "         2.84189278, -0.30234582, -2.91772744,  2.10815064, -1.46330017,\n",
       "        -1.97229956,  1.08930453, -3.91000474]])"
      ]
     },
     "execution_count": 10,
     "metadata": {},
     "output_type": "execute_result"
    }
   ],
   "source": [
    "lgr.coef_"
   ]
  },
  {
   "cell_type": "code",
   "execution_count": null,
   "metadata": {},
   "outputs": [],
   "source": []
  }
 ],
 "metadata": {
  "kernelspec": {
   "display_name": "Python 3",
   "language": "python",
   "name": "python3"
  },
  "language_info": {
   "codemirror_mode": {
    "name": "ipython",
    "version": 3
   },
   "file_extension": ".py",
   "mimetype": "text/x-python",
   "name": "python",
   "nbconvert_exporter": "python",
   "pygments_lexer": "ipython3",
   "version": "3.4.3"
  }
 },
 "nbformat": 4,
 "nbformat_minor": 2
}
