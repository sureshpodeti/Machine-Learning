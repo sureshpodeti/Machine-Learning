{
 "cells": [
  {
   "cell_type": "code",
   "execution_count": null,
   "metadata": {},
   "outputs": [],
   "source": [
    "import numpy as np\n",
    "import matplotlib.pyplot as plt"
   ]
  },
  {
   "cell_type": "code",
   "execution_count": null,
   "metadata": {},
   "outputs": [],
   "source": [
    "# data\n",
    "x = [1,2,3]\n",
    "y = [1,2,2]\n",
    "\n",
    "m, n = len(x), 1\n",
    "ones = np.ones((m,n))\n",
    "A = np.append(ones, np.array(x).reshape(m,n), axis=1)\n",
    "b = np.array(y)"
   ]
  },
  {
   "cell_type": "code",
   "execution_count": null,
   "metadata": {},
   "outputs": [],
   "source": [
    "def learned_parameters(theta, A, b,m,n,alpha=0.01):\n",
    "    \n",
    "    for i in range(0,n+1):\n",
    "        value  = 0\n",
    "        for j in range(0,m):\n",
    "            value += ((np.dot(theta.T, np.reshape(A[j:j+1,],(n+1,1)))[0,0]) - b[j])*A[j,i]\n",
    "        # updating step\n",
    "        theta[i,0] -= alpha*value\n",
    "    return theta"
   ]
  },
  {
   "cell_type": "code",
   "execution_count": null,
   "metadata": {},
   "outputs": [],
   "source": [
    "# initial theta vector\n",
    "theta = np.zeros((n+1,1))\n",
    "# create a copy of theta\n",
    "copy_theta = np.copy(theta)\n",
    "\n",
    "# define learing rate\n",
    "alpha = 0.01\n",
    "\n",
    "while True:\n",
    "    new_theta = learned_parameters(theta,A,b,m,n,alpha)\n",
    "    if(np.array_equal(new_theta, copy_theta)):\n",
    "        print(new_theta)\n",
    "        break\n",
    "    initial_theta = np.copy(new_theta)"
   ]
  },
  {
   "cell_type": "code",
   "execution_count": null,
   "metadata": {},
   "outputs": [],
   "source": []
  },
  {
   "cell_type": "code",
   "execution_count": null,
   "metadata": {},
   "outputs": [],
   "source": []
  },
  {
   "cell_type": "code",
   "execution_count": null,
   "metadata": {},
   "outputs": [],
   "source": []
  }
 ],
 "metadata": {
  "kernelspec": {
   "display_name": "Python 3",
   "language": "python",
   "name": "python3"
  },
  "language_info": {
   "codemirror_mode": {
    "name": "ipython",
    "version": 3
   },
   "file_extension": ".py",
   "mimetype": "text/x-python",
   "name": "python",
   "nbconvert_exporter": "python",
   "pygments_lexer": "ipython3",
   "version": "3.4.3"
  }
 },
 "nbformat": 4,
 "nbformat_minor": 2
}
