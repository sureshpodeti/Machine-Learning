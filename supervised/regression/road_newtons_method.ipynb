{
 "cells": [
  {
   "cell_type": "code",
   "execution_count": 1,
   "metadata": {},
   "outputs": [],
   "source": [
    "import numpy as np\n",
    "import pandas as pd\n",
    "from sklearn import linear_model, model_selection, preprocessing\n",
    "import matplotlib.pyplot as plt"
   ]
  },
  {
   "cell_type": "code",
   "execution_count": 2,
   "metadata": {},
   "outputs": [],
   "source": [
    "# Load the dataset\n",
    "df = pd.read_csv('https://raw.githubusercontent.com/eggplantbren/STATS331/master/Code/Regression/road.txt', sep='\\t', header=None)\n",
    "dataset = df.values\n",
    "n  = dataset.shape[1]\n",
    "\n",
    "x = dataset[:, 0:n-1]\n",
    "y = dataset[: , n-1:n]"
   ]
  },
  {
   "cell_type": "code",
   "execution_count": 3,
   "metadata": {},
   "outputs": [
    {
     "name": "stderr",
     "output_type": "stream",
     "text": [
      "/usr/local/lib/python3.4/dist-packages/sklearn/utils/validation.py:475: DataConversionWarning: Data with input dtype int64 was converted to float64 by the scale function.\n",
      "  warnings.warn(msg, DataConversionWarning)\n"
     ]
    }
   ],
   "source": [
    "## data preprocessing\n",
    "\n",
    "# feature scaling and mean normalization\n",
    "x = preprocessing.scale(x)\n",
    "\n",
    "# split the dataset into train and test data\n",
    "x_train, x_test , y_train, y_test = model_selection.train_test_split(x, y, test_size= 0.3, random_state=42)\n",
    "\n",
    "m, n = x_train.shape[0], n\n",
    "\n",
    "# forming matrices \n",
    "ones = np.ones((m,1))\n",
    "A_train = np.hstack([ones, x_train])\n",
    "b_train = y_train"
   ]
  },
  {
   "cell_type": "code",
   "execution_count": 4,
   "metadata": {},
   "outputs": [],
   "source": [
    "# cost function \n",
    "def cost_function(theta, A, b, m):\n",
    "    return sum((np.dot(A,theta) - b)**2)[0]/(2*m)"
   ]
  },
  {
   "cell_type": "code",
   "execution_count": 5,
   "metadata": {},
   "outputs": [],
   "source": [
    "# newtons optimization algorithm\n",
    "def newtons_method(theta, A, b, m,n, e=1e-5, alpha=0.01):\n",
    "    no_of_steps = 0\n",
    "    while True:\n",
    "        cost_prev = cost_function(theta, A, b, m)\n",
    "        grad =  (np.dot((np.dot(A,theta) - b).T, A).T) # gradient vector\n",
    "        hessian_matrix = np.dot(A.T, A) # hessian matrix\n",
    "        theta -= (alpha/m) * np.dot(np.linalg.inv(hessian_matrix), grad)\n",
    "        cost_curr = cost_function(theta, A,b,m)\n",
    "        \n",
    "        if abs(cost_prev - cost_curr) < e:\n",
    "            break\n",
    "        no_of_steps += 1\n",
    "    return (theta, no_of_steps)"
   ]
  },
  {
   "cell_type": "code",
   "execution_count": 6,
   "metadata": {},
   "outputs": [
    {
     "data": {
      "text/plain": [
       "(array([[429.10808638],\n",
       "        [-64.76474664]]), 28938)"
      ]
     },
     "execution_count": 6,
     "metadata": {},
     "output_type": "execute_result"
    }
   ],
   "source": [
    "# initialize the parameters ;theta\n",
    "theta = np.zeros((n,1))\n",
    "\n",
    "# define error tolerance ; e\n",
    "e = 1e-10\n",
    "\n",
    "# define learning rate ; alpha\n",
    "alpha = 0.01\n",
    "\n",
    "newtons_method(theta, A_train, b_train , m,n, e, alpha)"
   ]
  },
  {
   "cell_type": "code",
   "execution_count": 7,
   "metadata": {},
   "outputs": [
    {
     "data": {
      "text/plain": [
       "LinearRegression(copy_X=True, fit_intercept=True, n_jobs=1, normalize=False)"
      ]
     },
     "execution_count": 7,
     "metadata": {},
     "output_type": "execute_result"
    }
   ],
   "source": [
    "# using skearn linear_model\n",
    "lgr = linear_model.LinearRegression()\n",
    "lgr.fit(x_train, y_train)"
   ]
  },
  {
   "cell_type": "code",
   "execution_count": 8,
   "metadata": {},
   "outputs": [
    {
     "data": {
      "text/plain": [
       "array([429.10852933])"
      ]
     },
     "execution_count": 8,
     "metadata": {},
     "output_type": "execute_result"
    }
   ],
   "source": [
    "lgr.intercept_"
   ]
  },
  {
   "cell_type": "code",
   "execution_count": 9,
   "metadata": {},
   "outputs": [
    {
     "data": {
      "text/plain": [
       "array([[-64.76481349]])"
      ]
     },
     "execution_count": 9,
     "metadata": {},
     "output_type": "execute_result"
    }
   ],
   "source": [
    "lgr.coef_"
   ]
  },
  {
   "cell_type": "code",
   "execution_count": 10,
   "metadata": {},
   "outputs": [],
   "source": [
    "m, n = x_test.shape[0], n\n",
    "ones = np.ones((m,1))\n",
    "A_test = np.hstack([ones, x_test])\n",
    "b_test = y_test\n",
    "\n",
    "y_test_pred_grad  = np.dot(A_test, theta)\n",
    "\n",
    "y_test_sklearn = lgr.predict(x_test)"
   ]
  },
  {
   "cell_type": "code",
   "execution_count": 11,
   "metadata": {},
   "outputs": [
    {
     "data": {
      "image/png": "[encoded data removed]",
      "text/plain": [
       "<Figure size 432x288 with 1 Axes>"
      ]
     },
     "metadata": {},
     "output_type": "display_data"
    }
   ],
   "source": [
    "# visualizing the results\n",
    "fig , aux = plt.subplots()\n",
    "aux.plot(x_test, y_test, 'bo', x_test, y_test_sklearn, 'r-', x_test, y_test_pred_grad, 'g-')\n",
    "plt.show()"
   ]
  },
  {
   "cell_type": "code",
   "execution_count": null,
   "metadata": {},
   "outputs": [],
   "source": []
  }
 ],
 "metadata": {
  "kernelspec": {
   "display_name": "Python 3",
   "language": "python",
   "name": "python3"
  },
  "language_info": {
   "codemirror_mode": {
    "name": "ipython",
    "version": 3
   },
   "file_extension": ".py",
   "mimetype": "text/x-python",
   "name": "python",
   "nbconvert_exporter": "python",
   "pygments_lexer": "ipython3",
   "version": "3.4.3"
  }
 },
 "nbformat": 4,
 "nbformat_minor": 2
}
