{
 "cells": [
  {
   "cell_type": "code",
   "execution_count": 1,
   "metadata": {},
   "outputs": [],
   "source": [
    "import numpy as np"
   ]
  },
  {
   "cell_type": "code",
   "execution_count": 2,
   "metadata": {},
   "outputs": [],
   "source": [
    "# data \n",
    "x = [1,2,3]\n",
    "y = [1,2,2]\n",
    "\n",
    "m,n = len(x), 2\n",
    "X = np.reshape(np.array(x),(m,1))\n",
    "\n",
    "ones = np.ones((m,1))\n",
    "A = np.hstack([ones, X])\n",
    "b = np.reshape(np.array(y), (m,1))"
   ]
  },
  {
   "cell_type": "code",
   "execution_count": 3,
   "metadata": {},
   "outputs": [],
   "source": [
    "# cost function defination \n",
    "def cost_function(A, b,m, theta):\n",
    "    return sum((np.dot(A, theta) - b)**2)[0] /(2*m)"
   ]
  },
  {
   "cell_type": "code",
   "execution_count": 4,
   "metadata": {},
   "outputs": [],
   "source": [
    "# newtons optimization technique\n",
    "\n",
    "def newtons_method(theta, A, b, m, n, e, alpha):\n",
    "    no_of_steps = 0\n",
    "    while True:\n",
    "        grad = np.dot((np.dot(A, theta) -b).T, A).T # gradient vector\n",
    "        hessian_matrix = np.dot(A.T, A) # hessian matrix\n",
    "        cost_prev = cost_function(A, b, m, theta)\n",
    "        # update the thetas\n",
    "        theta -= np.dot(np.linalg.inv(hessian_matrix), grad)\n",
    "        cost_curr = cost_function(A, b, m, theta)\n",
    "        \n",
    "        #convergence condition\n",
    "        if abs(cost_prev - cost_curr) < e:\n",
    "            break\n",
    "        no_of_steps += 1\n",
    "    return (theta, no_of_steps)\n",
    "        "
   ]
  },
  {
   "cell_type": "code",
   "execution_count": 5,
   "metadata": {},
   "outputs": [
    {
     "data": {
      "text/plain": [
       "(array([[0.66666667],\n",
       "        [0.5       ]]), 1)"
      ]
     },
     "execution_count": 5,
     "metadata": {},
     "output_type": "execute_result"
    }
   ],
   "source": [
    "# initialize theta , the parameters to be estimated\n",
    "theta = np.zeros((n,1))\n",
    "\n",
    "# define error tolerance\n",
    "e = 1e-10\n",
    "\n",
    "# define learning rate\n",
    "alpha = 0.1\n",
    "newtons_method(theta, A,b,m,n,e,alpha)"
   ]
  },
  {
   "cell_type": "code",
   "execution_count": 6,
   "metadata": {},
   "outputs": [],
   "source": [
    "from sklearn import linear_model"
   ]
  },
  {
   "cell_type": "code",
   "execution_count": 7,
   "metadata": {},
   "outputs": [
    {
     "data": {
      "text/plain": [
       "LinearRegression(copy_X=True, fit_intercept=True, n_jobs=1, normalize=False)"
      ]
     },
     "execution_count": 7,
     "metadata": {},
     "output_type": "execute_result"
    }
   ],
   "source": [
    "lrg = linear_model.LinearRegression()\n",
    "lrg.fit(np.reshape(np.array(x), (m,1)), y)"
   ]
  },
  {
   "cell_type": "code",
   "execution_count": 9,
   "metadata": {},
   "outputs": [
    {
     "data": {
      "text/plain": [
       "0.6666666666666672"
      ]
     },
     "execution_count": 9,
     "metadata": {},
     "output_type": "execute_result"
    }
   ],
   "source": [
    "lrg.intercept_"
   ]
  },
  {
   "cell_type": "code",
   "execution_count": 10,
   "metadata": {},
   "outputs": [
    {
     "data": {
      "text/plain": [
       "array([0.5])"
      ]
     },
     "execution_count": 10,
     "metadata": {},
     "output_type": "execute_result"
    }
   ],
   "source": [
    "lrg.coef_"
   ]
  },
  {
   "cell_type": "code",
   "execution_count": null,
   "metadata": {},
   "outputs": [],
   "source": []
  }
 ],
 "metadata": {
  "kernelspec": {
   "display_name": "Python 3",
   "language": "python",
   "name": "python3"
  },
  "language_info": {
   "codemirror_mode": {
    "name": "ipython",
    "version": 3
   },
   "file_extension": ".py",
   "mimetype": "text/x-python",
   "name": "python",
   "nbconvert_exporter": "python",
   "pygments_lexer": "ipython3",
   "version": "3.4.3"
  }
 },
 "nbformat": 4,
 "nbformat_minor": 2
}
