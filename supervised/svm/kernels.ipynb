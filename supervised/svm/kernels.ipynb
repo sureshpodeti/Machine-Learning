{
 "cells": [
  {
   "cell_type": "code",
   "execution_count": 1,
   "metadata": {},
   "outputs": [],
   "source": [
    "import numpy as np"
   ]
  },
  {
   "cell_type": "code",
   "execution_count": 14,
   "metadata": {},
   "outputs": [],
   "source": [
    "#  linear kernel : of the form x *y.T + b ,  where b = 1 by default\n",
    "# each kernel is a matrix\n",
    "def linear_kernel(x,z, b=1):\n",
    "    '''\n",
    "    x: input feature vector1\n",
    "    z: input feature vector2\n",
    "    b: const\n",
    "    Returns linear kernel matrix\n",
    "    '''\n",
    "    return np.dot(x, z.T) + b\n",
    "    "
   ]
  },
  {
   "cell_type": "code",
   "execution_count": 15,
   "metadata": {},
   "outputs": [],
   "source": [
    "# polynomial kernel: of the form (x*y.T + theta)^d\n",
    "def poly_kernel(x,z,b=1,d=2):\n",
    "    '''\n",
    "    x: input feature vector1\n",
    "    z: input feature vector2\n",
    "    b: const\n",
    "    d: exponent value\n",
    "    Returns polynomial kernel matrix\n",
    "    '''\n",
    "    return (np.dot(x, z.T) + b)*d"
   ]
  },
  {
   "cell_type": "code",
   "execution_count": 22,
   "metadata": {},
   "outputs": [],
   "source": [
    "# gaussian kernel: of the form exp(-|x-z|**2/ (2*sigma)) , also called RBF - radial basis function kernel\n",
    "def rbf_kernel(x,z,sigma=1):\n",
    "    '''\n",
    "    x: feature vector1\n",
    "    z: feature vector2\n",
    "    sigma: deviation \n",
    "    Returns rbf kernel matrix\n",
    "    '''\n",
    "    # if  feature vectors of the same dimension and equal to 1\n",
    "    if  np.ndim(x) == 1 and np.ndim(z)==1:\n",
    "        result =  np.exp(- np.linalg.norm(x-z))/ (2*sigma**2)\n",
    "    elif (np.ndim(x) > 1 and np.ndim(z) ==1) or (np.ndim(x)==1 and np.ndim(z)>1):\n",
    "        result =  np.exp(-np.linalg.norm(x-z, axis=1))/(2*sigma**2)\n",
    "    elif np.ndim(x) > 1 and np.ndim(z)>1:\n",
    "        result = np.exp(-np.linalg.norm(x[:, np.newaxis]-z[np.newaxis, :], axis=2))/(2*sigma**2)\n",
    "    return result\n"
   ]
  },
  {
   "cell_type": "code",
   "execution_count": 10,
   "metadata": {},
   "outputs": [],
   "source": [
    "u,v  = np.random.rand(5,1), np.random.rand(10,1)"
   ]
  },
  {
   "cell_type": "code",
   "execution_count": 13,
   "metadata": {},
   "outputs": [
    {
     "data": {
      "text/plain": [
       "array([[7.10333963, 6.78041164, 7.56495677, 6.93056013, 7.65131039,\n",
       "        7.62069735, 6.94250005, 7.70862548, 6.32270051, 6.05009262],\n",
       "       [6.19943453, 6.14106357, 6.28287429, 6.16820371, 6.29848317,\n",
       "        6.2929497 , 6.17036192, 6.30884318, 6.05832984, 6.00905451],\n",
       "       [7.06855355, 6.75580682, 7.51561682, 6.90122144, 7.59924789,\n",
       "        7.56960001, 6.91278491, 7.65475594, 6.31252641, 6.0485133 ],\n",
       "       [6.95070788, 6.67245249, 7.34846667, 6.80183002, 7.42287447,\n",
       "        7.39649632, 6.81211822, 7.4722608 , 6.27805937, 6.043163  ],\n",
       "       [7.08187162, 6.76522693, 7.53450693, 6.91245394, 7.61918035,\n",
       "        7.58916295, 6.92416154, 7.67538023, 6.31642163, 6.04911795]])"
      ]
     },
     "execution_count": 13,
     "metadata": {},
     "output_type": "execute_result"
    }
   ],
   "source": [
    "# testing code for polynomial kernel\n",
    "\n",
    "poly_kernel(u,v,2, 3)"
   ]
  },
  {
   "cell_type": "code",
   "execution_count": 5,
   "metadata": {},
   "outputs": [
    {
     "data": {
      "text/plain": [
       "array([[3.29034736, 3.5748143 , 3.41182937, 3.46324813, 3.10874226,\n",
       "        3.51897236, 3.40978495, 3.06559619, 3.11296543, 3.14414652],\n",
       "       [3.09543666, 3.18894042, 3.13536757, 3.15226882, 3.03574338,\n",
       "        3.17058528, 3.13469557, 3.02156135, 3.03713153, 3.0473807 ],\n",
       "       [3.36600966, 3.72460649, 3.51914894, 3.58396704, 3.13707965,\n",
       "        3.65421258, 3.51657176, 3.08269006, 3.14240335, 3.18171   ],\n",
       "       [3.29512138, 3.58426564, 3.41860084, 3.47086505, 3.11053024,\n",
       "        3.52750553, 3.41652281, 3.06667475, 3.11482286, 3.14651664],\n",
       "       [3.19594609, 3.38792367, 3.27793039, 3.31263126, 3.07338665,\n",
       "        3.35023775, 3.27655068, 3.04426876, 3.07623673, 3.09727985]])"
      ]
     },
     "execution_count": 5,
     "metadata": {},
     "output_type": "execute_result"
    }
   ],
   "source": [
    "# testing code for linear kernel\n",
    "linear_kernel(u,v,3)"
   ]
  },
  {
   "cell_type": "code",
   "execution_count": 26,
   "metadata": {},
   "outputs": [
    {
     "data": {
      "text/plain": [
       "array([[0.00050409, 0.00042791, 0.00048443, 0.00046178, 0.00046366,\n",
       "        0.00047092, 0.00046459, 0.00045037, 0.00033924, 0.00029542],\n",
       "       [0.00035743, 0.00042106, 0.0002828 , 0.00039018, 0.00027067,\n",
       "        0.00027491, 0.00038782, 0.00026292, 0.00053113, 0.00050605],\n",
       "       [0.00051464, 0.00043687, 0.0004745 , 0.00047145, 0.00045416,\n",
       "        0.00046127, 0.00047431, 0.00044114, 0.00034634, 0.0003016 ],\n",
       "       [0.00055205, 0.00046863, 0.00044234, 0.00050572, 0.00042338,\n",
       "        0.00043001, 0.00050879, 0.00041125, 0.00037151, 0.00032352],\n",
       "       [0.00051058, 0.00043342, 0.00047828, 0.00046773, 0.00045777,\n",
       "        0.00046494, 0.00047057, 0.00044465, 0.0003436 , 0.00029922]])"
      ]
     },
     "execution_count": 26,
     "metadata": {},
     "output_type": "execute_result"
    }
   ],
   "source": [
    "rbf_kernel(u,v, 30)"
   ]
  },
  {
   "cell_type": "code",
   "execution_count": null,
   "metadata": {},
   "outputs": [],
   "source": []
  },
  {
   "cell_type": "code",
   "execution_count": null,
   "metadata": {},
   "outputs": [],
   "source": []
  },
  {
   "cell_type": "code",
   "execution_count": null,
   "metadata": {},
   "outputs": [],
   "source": []
  },
  {
   "cell_type": "code",
   "execution_count": null,
   "metadata": {},
   "outputs": [],
   "source": []
  },
  {
   "cell_type": "code",
   "execution_count": null,
   "metadata": {
    "scrolled": false
   },
   "outputs": [],
   "source": []
  },
  {
   "cell_type": "code",
   "execution_count": null,
   "metadata": {},
   "outputs": [],
   "source": []
  },
  {
   "cell_type": "code",
   "execution_count": null,
   "metadata": {},
   "outputs": [],
   "source": []
  },
  {
   "cell_type": "code",
   "execution_count": null,
   "metadata": {},
   "outputs": [],
   "source": []
  },
  {
   "cell_type": "code",
   "execution_count": null,
   "metadata": {},
   "outputs": [],
   "source": []
  },
  {
   "cell_type": "code",
   "execution_count": null,
   "metadata": {},
   "outputs": [],
   "source": []
  },
  {
   "cell_type": "code",
   "execution_count": null,
   "metadata": {},
   "outputs": [],
   "source": []
  }
 ],
 "metadata": {
  "kernelspec": {
   "display_name": "Python 3",
   "language": "python",
   "name": "python3"
  },
  "language_info": {
   "codemirror_mode": {
    "name": "ipython",
    "version": 3
   },
   "file_extension": ".py",
   "mimetype": "text/x-python",
   "name": "python",
   "nbconvert_exporter": "python",
   "pygments_lexer": "ipython3",
   "version": "3.4.3"
  }
 },
 "nbformat": 4,
 "nbformat_minor": 2
}
