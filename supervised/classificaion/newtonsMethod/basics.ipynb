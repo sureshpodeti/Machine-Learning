{
 "cells": [
  {
   "cell_type": "code",
   "execution_count": 1,
   "metadata": {},
   "outputs": [],
   "source": [
    "# Problem: find the root of f(x) = 6x^5- 5x^4-4x^3 +3x^2\n",
    "# root means x=x0 such that f(x0) = 0\n",
    "# use newtons method to compute root"
   ]
  },
  {
   "cell_type": "code",
   "execution_count": 4,
   "metadata": {},
   "outputs": [],
   "source": [
    "# returns value  of f(x) at any x=x0\n",
    "def f(x):\n",
    "    return 6*x**5 -5*x**4 -4*x**3 +3*x**2"
   ]
  },
  {
   "cell_type": "code",
   "execution_count": 5,
   "metadata": {},
   "outputs": [],
   "source": [
    "# returns vaoue of df(x) at any x=x0\n",
    "def df(x):\n",
    "    return 30*x**4 -20*x**3 -12*x**2 +6*x"
   ]
  },
  {
   "cell_type": "code",
   "execution_count": 39,
   "metadata": {},
   "outputs": [],
   "source": [
    "def newtons_method(x0, e=1e-5):\n",
    "    error = abs(f(x0))\n",
    "\n",
    "    while error > e:\n",
    "        x0 = x0 - f(x0)/df(x0)\n",
    "        error = abs(f(x0))\n",
    "    print(\"root is at:\", x0)\n",
    "    print(\"function value at root:\",f(x0))"
   ]
  },
  {
   "cell_type": "code",
   "execution_count": 40,
   "metadata": {},
   "outputs": [
    {
     "name": "stdout",
     "output_type": "stream",
     "text": [
      "root is at: 0\n",
      "function value at root: 0\n",
      "root is at: 0.6286680781673306\n",
      "function value at root: -1.3785387997788945e-06\n",
      "root is at: 1\n",
      "function value at root: 0\n"
     ]
    }
   ],
   "source": [
    "# initial x0's\n",
    "x0s = [0,.5,1]\n",
    "for x0 in x0s:\n",
    "    newtons_method(x0)"
   ]
  },
  {
   "cell_type": "code",
   "execution_count": 41,
   "metadata": {},
   "outputs": [],
   "source": [
    "# using scipy we can do the same thing"
   ]
  },
  {
   "cell_type": "code",
   "execution_count": 42,
   "metadata": {},
   "outputs": [],
   "source": [
    "from scipy.optimize import newton"
   ]
  },
  {
   "cell_type": "code",
   "execution_count": 46,
   "metadata": {},
   "outputs": [
    {
     "name": "stdout",
     "output_type": "stream",
     "text": [
      "0.0\n",
      "0.6286669787778999\n",
      "1.0\n"
     ]
    },
    {
     "name": "stderr",
     "output_type": "stream",
     "text": [
      "/usr/local/lib/python3.4/dist-packages/scipy/optimize/zeros.py:173: RuntimeWarning: derivative was zero.\n",
      "  warnings.warn(msg, RuntimeWarning)\n"
     ]
    }
   ],
   "source": [
    "x0s = [0,.5,1]\n",
    "for x0 in x0s:\n",
    "    print(newton(f,x0, df, tol=1e-5))"
   ]
  },
  {
   "cell_type": "code",
   "execution_count": null,
   "metadata": {},
   "outputs": [],
   "source": []
  }
 ],
 "metadata": {
  "kernelspec": {
   "display_name": "Python 3",
   "language": "python",
   "name": "python3"
  },
  "language_info": {
   "codemirror_mode": {
    "name": "ipython",
    "version": 3
   },
   "file_extension": ".py",
   "mimetype": "text/x-python",
   "name": "python",
   "nbconvert_exporter": "python",
   "pygments_lexer": "ipython3",
   "version": "3.4.3"
  }
 },
 "nbformat": 4,
 "nbformat_minor": 2
}
