{
 "cells": [
  {
   "cell_type": "code",
   "execution_count": 81,
   "metadata": {},
   "outputs": [],
   "source": [
    "import numpy as np\n",
    "from sklearn import datasets, model_selection, linear_model,preprocessing\n",
    "import matplotlib.pyplot as plt"
   ]
  },
  {
   "cell_type": "code",
   "execution_count": 82,
   "metadata": {},
   "outputs": [],
   "source": [
    "# load the dataset\n",
    "iris = datasets.load_iris()\n",
    "x = iris.data[0:100,]\n",
    "y = iris.target[0:100]"
   ]
  },
  {
   "cell_type": "code",
   "execution_count": 83,
   "metadata": {},
   "outputs": [],
   "source": [
    "# data preprocessing\n",
    "\n",
    "# scaling the data\n",
    "#x = preprocessing.scale(x)\n",
    "# split the data into train and test\n",
    "x_train, x_test, y_train, y_test = model_selection.train_test_split(x,y,test_size=0.3, random_state=42)\n",
    "\n",
    "m, n = x_train.shape[0], len(iris.feature_names)\n",
    "\n",
    "ones = np.ones((m,1))\n",
    "A = np.append(ones,x_train,axis=1)\n",
    "b = y_train"
   ]
  },
  {
   "cell_type": "code",
   "execution_count": 84,
   "metadata": {},
   "outputs": [
    {
     "data": {
      "text/plain": [
       "LogisticRegression(C=1.0, class_weight=None, dual=False, fit_intercept=True,\n",
       "          intercept_scaling=1, max_iter=100, multi_class='ovr', n_jobs=1,\n",
       "          penalty='l2', random_state=None, solver='liblinear', tol=0.0001,\n",
       "          verbose=0, warm_start=False)"
      ]
     },
     "execution_count": 84,
     "metadata": {},
     "output_type": "execute_result"
    }
   ],
   "source": [
    "# using sklearn logistic regression \n",
    "lgr = linear_model.LogisticRegression()\n",
    "lgr.fit(x_train, y_train)"
   ]
  },
  {
   "cell_type": "code",
   "execution_count": 85,
   "metadata": {},
   "outputs": [
    {
     "data": {
      "text/plain": [
       "array([-0.25266853])"
      ]
     },
     "execution_count": 85,
     "metadata": {},
     "output_type": "execute_result"
    }
   ],
   "source": [
    "lgr.intercept_"
   ]
  },
  {
   "cell_type": "code",
   "execution_count": 86,
   "metadata": {},
   "outputs": [
    {
     "data": {
      "text/plain": [
       "array([[-0.36532964, -1.3577868 ,  2.09339161,  0.95557712]])"
      ]
     },
     "execution_count": 86,
     "metadata": {},
     "output_type": "execute_result"
    }
   ],
   "source": [
    "lgr.coef_"
   ]
  },
  {
   "cell_type": "code",
   "execution_count": 91,
   "metadata": {},
   "outputs": [],
   "source": [
    "def learn_parameters(theta, A, b, m, n, alpha=0.01):\n",
    "    for i in range(0,n+1):\n",
    "        value = 0\n",
    "        for j in range(0,m):\n",
    "            exponent = (np.dot(theta.T, np.reshape(A[j:j+1,], (n+1,1)))[0,0])\n",
    "            value += ((1/(1+np.exp(-exponent)))- b[j])*A[j,i]\n",
    "            \n",
    "        theta[i,0] += alpha*value\n",
    "    return theta"
   ]
  },
  {
   "cell_type": "code",
   "execution_count": 94,
   "metadata": {},
   "outputs": [
    {
     "name": "stdout",
     "output_type": "stream",
     "text": [
      "[[0.05      ]\n",
      " [0.28439575]\n",
      " [0.47188716]\n",
      " [0.52213158]\n",
      " [0.14434812]]\n"
     ]
    }
   ],
   "source": [
    "# define theta \n",
    "theta = np.zeros((n+1,1))\n",
    "\n",
    "# define learning rate\n",
    "alpha = 0.01\n",
    "\n",
    "while True:\n",
    "    new_theta = learn_parameters(np.copy(theta),A,b,m,n,alpha)\n",
    "    l = list(b)\n",
    "    no_of_zeros = l.count(0)\n",
    "    no_of_ones = l.count(1)\n",
    "    likelihood_prev, likelihood_new = 1,1\n",
    "    for i in range(0, m):\n",
    "        coeff_prev = (np.dot(theta.T, np.reshape(A[i:i+1,], (n+1,1))))[0,0]\n",
    "        coeff_new = (np.dot(new_theta.T, np.reshape(A[i:i+1,], (n+1,1))))[0,0]\n",
    "        if b[i] == 0:\n",
    "            likelihood_prev *= (1-(1/(1+np.exp(-coeff_prev))))\n",
    "            likelihood_new *= (1-(1/(1+np.exp(-coeff_new))))\n",
    "        else:\n",
    "            likelihood_prev *= (1/(1+np.exp(-coeff_prev)))\n",
    "            likelihood_new *= (1/(1+np.exp(-coeff_new)))\n",
    "    # convergence condition\n",
    "    if abs(likelihood_prev-likelihood_new)<=0.1:\n",
    "        print(new_theta)\n",
    "        break\n",
    "    theta = np.copy(new_theta)\n",
    "        \n",
    "            \n",
    "            "
   ]
  },
  {
   "cell_type": "code",
   "execution_count": 89,
   "metadata": {},
   "outputs": [
    {
     "data": {
      "image/png": "[encoded data removed]",
      "text/plain": [
       "<Figure size 432x288 with 1 Axes>"
      ]
     },
     "metadata": {},
     "output_type": "display_data"
    }
   ],
   "source": [
    "m, n = x_test.shape[0], len(iris.feature_names)\n",
    "\n",
    "x_test = np.sort(x_test, axis=0)\n",
    "ones = np.ones((m,1))\n",
    "A = np.append(ones,x_test,axis=1)\n",
    "\n",
    "exponent = (np.dot( A, new_theta)).ravel()\n",
    "y_pred = (1/(1+np.exp(-exponent)))\n",
    "\n",
    "fig, aux = plt.subplots()\n",
    "aux.plot(x_test[:, 0], y_test, 'bo', x_test[:, 0], y_pred, 'r-')\n",
    "plt.show()\n"
   ]
  },
  {
   "cell_type": "code",
   "execution_count": null,
   "metadata": {},
   "outputs": [],
   "source": []
  },
  {
   "cell_type": "code",
   "execution_count": null,
   "metadata": {},
   "outputs": [],
   "source": []
  }
 ],
 "metadata": {
  "kernelspec": {
   "display_name": "Python 3",
   "language": "python",
   "name": "python3"
  },
  "language_info": {
   "codemirror_mode": {
    "name": "ipython",
    "version": 3
   },
   "file_extension": ".py",
   "mimetype": "text/x-python",
   "name": "python",
   "nbconvert_exporter": "python",
   "pygments_lexer": "ipython3",
   "version": "3.4.3"
  }
 },
 "nbformat": 4,
 "nbformat_minor": 2
}
