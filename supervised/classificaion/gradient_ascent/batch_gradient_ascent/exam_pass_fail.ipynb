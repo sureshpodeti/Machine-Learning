{
 "cells": [
  {
   "cell_type": "code",
   "execution_count": 8,
   "metadata": {},
   "outputs": [],
   "source": [
    "import numpy as np\n",
    "import matplotlib.pyplot as plt\n",
    "from sklearn import linear_model"
   ]
  },
  {
   "cell_type": "code",
   "execution_count": 2,
   "metadata": {},
   "outputs": [],
   "source": [
    "# data\n",
    "x = np.array([0.50, 0.75, 1.00, 1.25, 1.50, 1.75, 1.75, 2.00, 2.25, 2.50, 2.75, 3.00,3.25,3.50, 4.00,4.25,\n",
    "              4.50, 4.75, 5.00,5.50 ])\n",
    "Y = np.array([0,0,0,0,0,0,1,0,1,0,1,0,1,0,1,1,1,1,1,1])\n",
    "\n",
    "#no.of training examples\n",
    "m,n = x.shape[0], 1\n",
    "x = np.reshape(x, (m, 1))\n",
    "\n",
    "# constructing matrix\n",
    "ones = np.ones((m,1))\n",
    "X = np.hstack([ones, x])"
   ]
  },
  {
   "cell_type": "code",
   "execution_count": 5,
   "metadata": {},
   "outputs": [],
   "source": [
    "def learn_paramters(theta, X, Y, m, n, alpha=0.01):\n",
    "    for i in range(0,n+1):\n",
    "        value = 0\n",
    "        for j in range(0, m):\n",
    "            exponent = np.dot(theta.T, np.reshape(X[j:j+1,],(n+1,1)))[0,0]\n",
    "            value += (Y[j] - (1/(1+np.exp(-exponent))))*X[j,i]\n",
    "        theta[i,0] += alpha*value/m\n",
    "    return theta"
   ]
  },
  {
   "cell_type": "code",
   "execution_count": 16,
   "metadata": {},
   "outputs": [
    {
     "name": "stdout",
     "output_type": "stream",
     "text": [
      "[[-1.45130068]\n",
      " [ 0.64308807]]\n"
     ]
    }
   ],
   "source": [
    "# initialize the parameter theta\n",
    "theta = np.zeros((n+1,1))\n",
    "\n",
    "# define learning rate\n",
    "alpha = 0.001\n",
    "\n",
    "while True:\n",
    "    new_theta = learn_paramters(np.copy(theta), X,Y,m,n,alpha)\n",
    "    \n",
    "    loglikelihood_prev, loglikelihood_curr = 0,0\n",
    "    for i in range(0,m):\n",
    "        exp_prev = np.dot(theta.T, np.reshape(X[i:i+1,], (n+1,1)))[0,0]\n",
    "        exp_curr = np.dot(new_theta.T, np.reshape(X[i:i+1,], (n+1,1)))[0,0]\n",
    "        \n",
    "\n",
    "        if Y[i] == 0:\n",
    "            loglikelihood_prev += -np.log(1-(1/(1+np.exp(-exp_prev))))\n",
    "            loglikelihood_curr += -np.log(1-(1/(1+np.exp(-exp_curr))))\n",
    "        else:\n",
    "            loglikelihood_prev += -np.log(1/(1+np.exp(-exp_prev)))\n",
    "            loglikelihood_curr += -np.log(1/(1+np.exp(-exp_curr)))\n",
    "    if abs(loglikelihood_prev - loglikelihood_curr) <= 0.0001:\n",
    "        print(new_theta)\n",
    "        break\n",
    "    theta = np.copy(new_theta)"
   ]
  },
  {
   "cell_type": "code",
   "execution_count": 9,
   "metadata": {},
   "outputs": [
    {
     "data": {
      "text/plain": [
       "LogisticRegression(C=1.0, class_weight=None, dual=False, fit_intercept=True,\n",
       "          intercept_scaling=1, max_iter=100, multi_class='ovr', n_jobs=1,\n",
       "          penalty='l2', random_state=None, solver='liblinear', tol=0.0001,\n",
       "          verbose=0, warm_start=False)"
      ]
     },
     "execution_count": 9,
     "metadata": {},
     "output_type": "execute_result"
    }
   ],
   "source": [
    "# using sklearn Logistic regression\n",
    "clf = linear_model.LogisticRegression()\n",
    "clf.fit(x,Y)"
   ]
  },
  {
   "cell_type": "code",
   "execution_count": 10,
   "metadata": {},
   "outputs": [
    {
     "data": {
      "text/plain": [
       "array([-1.36550178])"
      ]
     },
     "execution_count": 10,
     "metadata": {},
     "output_type": "execute_result"
    }
   ],
   "source": [
    "clf.intercept_"
   ]
  },
  {
   "cell_type": "code",
   "execution_count": 11,
   "metadata": {},
   "outputs": [
    {
     "data": {
      "text/plain": [
       "array([[0.61126347]])"
      ]
     },
     "execution_count": 11,
     "metadata": {},
     "output_type": "execute_result"
    }
   ],
   "source": [
    "clf.coef_"
   ]
  },
  {
   "cell_type": "code",
   "execution_count": 20,
   "metadata": {},
   "outputs": [
    {
     "data": {
      "image/png": "[encoded data removed]",
      "text/plain": [
       "<Figure size 432x288 with 1 Axes>"
      ]
     },
     "metadata": {},
     "output_type": "display_data"
    }
   ],
   "source": [
    "# visualization \n",
    "coff = np.array([[-1.36550178],[0.61126347]])\n",
    "\n",
    "exponent_clf = np.dot(X, coff)\n",
    "exponent_grad = np.dot(X, new_theta)\n",
    "y_clf = (1/(1+np.exp(-exponent_clf)))\n",
    "y_grad = (1/(1+np.exp(-exponent_grad)))\n",
    "\n",
    "fig, aux = plt.subplots()\n",
    "aux.plot(x,Y, 'bo', x, y_clf, 'r-', x, y_grad, 'g-')\n",
    "plt.show()"
   ]
  },
  {
   "cell_type": "code",
   "execution_count": null,
   "metadata": {},
   "outputs": [],
   "source": []
  }
 ],
 "metadata": {
  "kernelspec": {
   "display_name": "Python 3",
   "language": "python",
   "name": "python3"
  },
  "language_info": {
   "codemirror_mode": {
    "name": "ipython",
    "version": 3
   },
   "file_extension": ".py",
   "mimetype": "text/x-python",
   "name": "python",
   "nbconvert_exporter": "python",
   "pygments_lexer": "ipython3",
   "version": "3.4.3"
  }
 },
 "nbformat": 4,
 "nbformat_minor": 2
}
