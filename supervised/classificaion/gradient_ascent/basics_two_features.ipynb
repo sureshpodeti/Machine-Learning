{
 "cells": [
  {
   "cell_type": "code",
   "execution_count": 19,
   "metadata": {},
   "outputs": [],
   "source": [
    "import numpy as np\n",
    "import matplotlib.pyplot as plt"
   ]
  },
  {
   "cell_type": "code",
   "execution_count": 20,
   "metadata": {},
   "outputs": [],
   "source": [
    "X = np.array([[2.7810836,2.550537003],[1.465489372, 2.362125076],[3.396561688, 4.400293529],[1.38807019, 1.850220317],\n",
    "              [3.06407232, 3.005305973],[7.627531214, 2.759262235],[5.332441248, 2.088626775],[6.922596716, 1.77106367],\n",
    "              [8.675418651, -0.2420686549],[7.673756466, 3.508563011]])\n",
    "\n",
    "Y = np.array([0,0,0,0,0,1,1,1,1,1])"
   ]
  },
  {
   "cell_type": "code",
   "execution_count": 21,
   "metadata": {},
   "outputs": [],
   "source": [
    "# data preprocessing "
   ]
  },
  {
   "cell_type": "code",
   "execution_count": 22,
   "metadata": {},
   "outputs": [],
   "source": [
    "# constructing matrices\n",
    "m,n = X.shape[0], 2\n",
    "ones = np.ones((m,1))\n",
    "A = np.append(ones, X, axis=1)\n",
    "b = Y"
   ]
  },
  {
   "cell_type": "code",
   "execution_count": 42,
   "metadata": {},
   "outputs": [],
   "source": [
    "def learn_parameters(theta, A, b, m, n, alpha=0.01):\n",
    "    for i in range(0, n+1):\n",
    "        value = 0 \n",
    "        for j in range(0, m):\n",
    "            exponent = (np.dot(theta.T, np.reshape(A[j:j+1,],(n+1,1))))[0,0]\n",
    "            value += ((1/(1+np.exp(-exponent))) - b[j])*A[j,i]\n",
    "        theta[i,0] += alpha*value\n",
    "    return theta"
   ]
  },
  {
   "cell_type": "code",
   "execution_count": 52,
   "metadata": {},
   "outputs": [
    {
     "name": "stdout",
     "output_type": "stream",
     "text": [
      "[[-2.02817388]\n",
      " [ 3.4989063 ]\n",
      " [-5.13723473]]\n"
     ]
    }
   ],
   "source": [
    "# initialize parameter vector theta\n",
    "theta  = np.zeros((n+1, 1))\n",
    "\n",
    "# define learning rate \n",
    "alpha = 0.0001\n",
    "\n",
    "\n",
    "\n",
    "while True:\n",
    "    new_theta = learn_parameters(np.copy(theta),A,b,m,n,alpha)\n",
    "    l = list(b)\n",
    "    no_of_zeros = l.count(0)\n",
    "    no_of_ones = l.count(1)\n",
    "    likelihood_prev, likelihood_new = 1,1\n",
    "    for i in range(0, m):\n",
    "        coeff_prev = (np.dot(theta.T, np.reshape(A[i:i+1,], (n+1,1))))[0,0]\n",
    "        coeff_new = (np.dot(new_theta.T, np.reshape(A[i:i+1,], (n+1,1))))[0,0]\n",
    "        if b[i] == 0:\n",
    "            likelihood_prev *= (1-(1/(1+np.exp(-coeff_prev))))\n",
    "            likelihood_new *= (1-(1/(1+np.exp(-coeff_new))))\n",
    "        else:\n",
    "            likelihood_prev *= (1/(1+np.exp(-coeff_prev)))\n",
    "            likelihood_new *= (1/(1+np.exp(-coeff_new)))\n",
    "    # convergence condition\n",
    "    if abs(likelihood_prev-likelihood_new)<=0.00000001:\n",
    "        print(new_theta)\n",
    "        break\n",
    "    theta = np.copy(new_theta)\n",
    "\n"
   ]
  },
  {
   "cell_type": "code",
   "execution_count": 25,
   "metadata": {},
   "outputs": [],
   "source": [
    "from sklearn import linear_model"
   ]
  },
  {
   "cell_type": "code",
   "execution_count": 27,
   "metadata": {},
   "outputs": [
    {
     "data": {
      "text/plain": [
       "LogisticRegression(C=1.0, class_weight=None, dual=False, fit_intercept=True,\n",
       "          intercept_scaling=1, max_iter=100, multi_class='ovr', n_jobs=1,\n",
       "          penalty='l2', random_state=None, solver='liblinear', tol=0.0001,\n",
       "          verbose=0, warm_start=False)"
      ]
     },
     "execution_count": 27,
     "metadata": {},
     "output_type": "execute_result"
    }
   ],
   "source": [
    "clf = linear_model.LogisticRegression()\n",
    "clf.fit(X,Y)"
   ]
  },
  {
   "cell_type": "code",
   "execution_count": 28,
   "metadata": {},
   "outputs": [
    {
     "data": {
      "text/plain": [
       "array([-0.43104649])"
      ]
     },
     "execution_count": 28,
     "metadata": {},
     "output_type": "execute_result"
    }
   ],
   "source": [
    "clf.intercept_"
   ]
  },
  {
   "cell_type": "code",
   "execution_count": 29,
   "metadata": {},
   "outputs": [
    {
     "data": {
      "text/plain": [
       "array([[ 0.80500337, -1.1224275 ]])"
      ]
     },
     "execution_count": 29,
     "metadata": {},
     "output_type": "execute_result"
    }
   ],
   "source": [
    "clf.coef_"
   ]
  },
  {
   "cell_type": "code",
   "execution_count": null,
   "metadata": {},
   "outputs": [],
   "source": []
  }
 ],
 "metadata": {
  "kernelspec": {
   "display_name": "Python 3",
   "language": "python",
   "name": "python3"
  },
  "language_info": {
   "codemirror_mode": {
    "name": "ipython",
    "version": 3
   },
   "file_extension": ".py",
   "mimetype": "text/x-python",
   "name": "python",
   "nbconvert_exporter": "python",
   "pygments_lexer": "ipython3",
   "version": "3.4.3"
  }
 },
 "nbformat": 4,
 "nbformat_minor": 2
}
