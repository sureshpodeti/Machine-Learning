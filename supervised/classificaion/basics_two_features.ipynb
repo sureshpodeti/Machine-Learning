{
 "cells": [
  {
   "cell_type": "code",
   "execution_count": 2,
   "metadata": {},
   "outputs": [],
   "source": [
    "import numpy as np\n",
    "import matplotlib.pyplot as plt\n",
    "from sklearn import preprocessing"
   ]
  },
  {
   "cell_type": "code",
   "execution_count": 3,
   "metadata": {},
   "outputs": [],
   "source": [
    "X = np.array([[2.7810836,2.550537003],[1.465489372, 2.362125076],[3.396561688, 4.400293529],[1.38807019, 1.850220317],\n",
    "              [3.06407232, 3.005305973],[7.627531214, 2.759262235],[5.332441248, 2.088626775],[6.922596716, 1.77106367],\n",
    "              [8.675418651, -0.2420686549],[7.673756466, 3.508563011]])\n",
    "\n",
    "Y = np.array([0,0,0,0,0,1,1,1,1,1])"
   ]
  },
  {
   "cell_type": "code",
   "execution_count": null,
   "metadata": {},
   "outputs": [],
   "source": []
  },
  {
   "cell_type": "code",
   "execution_count": 4,
   "metadata": {},
   "outputs": [],
   "source": [
    "# constructing matrices\n",
    "m,n = X.shape[0], 2\n",
    "ones = np.ones((m,1))\n",
    "A = np.append(ones, X, axis=1)\n",
    "b = Y\n",
    "\n",
    "# data preprocessing\n",
    "#A[:, 1] = preprocessing.scale(A[:,1])\n",
    "#A[:,2] = preprocessing.scale(A[:,2]) "
   ]
  },
  {
   "cell_type": "code",
   "execution_count": 19,
   "metadata": {},
   "outputs": [],
   "source": [
    "def learn_parameters(theta, A, b, m, n, alpha=0.01):\n",
    "    for i in range(0, n+1):\n",
    "        value = 0 \n",
    "        for j in range(0, m):\n",
    "            exponent = (np.dot(theta.T, np.reshape(A[j:j+1,],(n+1,1))))[0,0]\n",
    "            value += (b[j]-(1/(1+np.exp(-exponent))))*A[j,i]\n",
    "        theta[i,0] += alpha*value\n",
    "    return theta"
   ]
  },
  {
   "cell_type": "code",
   "execution_count": 20,
   "metadata": {},
   "outputs": [
    {
     "name": "stdout",
     "output_type": "stream",
     "text": [
      "[[-1.58028541]\n",
      " [ 2.84289799]\n",
      " [-4.18501916]]\n"
     ]
    }
   ],
   "source": [
    "# initialize parameter vector theta\n",
    "theta  = np.zeros((n+1, 1))\n",
    "\n",
    "# define learning rate \n",
    "alpha = 0.01\n",
    "\n",
    "\n",
    "\n",
    "while True:\n",
    "    new_theta = learn_parameters(np.copy(theta),A,b,m,n,alpha)\n",
    "    l = list(b)\n",
    "    no_of_zeros = l.count(0)\n",
    "    no_of_ones = l.count(1)\n",
    "    likelihood_prev, likelihood_new = 1,1\n",
    "    for i in range(0, m):\n",
    "        coeff_prev = (np.dot(theta.T, np.reshape(A[i:i+1,], (n+1,1))))[0,0]\n",
    "        coeff_new = (np.dot(new_theta.T, np.reshape(A[i:i+1,], (n+1,1))))[0,0]\n",
    "        if b[i] == 0:\n",
    "            likelihood_prev *= (1-(1/(1+np.exp(-coeff_prev))))\n",
    "            likelihood_new *= (1-(1/(1+np.exp(-coeff_new))))\n",
    "        else:\n",
    "            likelihood_prev *= (1/(1+np.exp(-coeff_prev)))\n",
    "            likelihood_new *= (1/(1+np.exp(-coeff_new)))\n",
    "    # convergence condition\n",
    "    if abs(likelihood_prev-likelihood_new)<=0.00001:\n",
    "        print(new_theta)\n",
    "        break\n",
    "    theta = np.copy(new_theta)\n",
    "\n"
   ]
  },
  {
   "cell_type": "code",
   "execution_count": 7,
   "metadata": {},
   "outputs": [],
   "source": [
    "from sklearn import linear_model"
   ]
  },
  {
   "cell_type": "code",
   "execution_count": 8,
   "metadata": {},
   "outputs": [
    {
     "data": {
      "text/plain": [
       "LogisticRegression(C=1.0, class_weight=None, dual=False, fit_intercept=True,\n",
       "          intercept_scaling=1, max_iter=100, multi_class='ovr', n_jobs=1,\n",
       "          penalty='l2', random_state=None, solver='liblinear', tol=0.0001,\n",
       "          verbose=0, warm_start=False)"
      ]
     },
     "execution_count": 8,
     "metadata": {},
     "output_type": "execute_result"
    }
   ],
   "source": [
    "clf = linear_model.LogisticRegression()\n",
    "clf.fit(X,Y)"
   ]
  },
  {
   "cell_type": "code",
   "execution_count": 9,
   "metadata": {},
   "outputs": [
    {
     "data": {
      "text/plain": [
       "array([-0.43104649])"
      ]
     },
     "execution_count": 9,
     "metadata": {},
     "output_type": "execute_result"
    }
   ],
   "source": [
    "clf.intercept_"
   ]
  },
  {
   "cell_type": "code",
   "execution_count": 10,
   "metadata": {},
   "outputs": [
    {
     "data": {
      "text/plain": [
       "array([[ 0.80500337, -1.1224275 ]])"
      ]
     },
     "execution_count": 10,
     "metadata": {},
     "output_type": "execute_result"
    }
   ],
   "source": [
    "clf.coef_"
   ]
  },
  {
   "cell_type": "code",
   "execution_count": 11,
   "metadata": {},
   "outputs": [
    {
     "data": {
      "image/png": "[encoded data removed]",
      "text/plain": [
       "<Figure size 432x288 with 1 Axes>"
      ]
     },
     "metadata": {},
     "output_type": "display_data"
    }
   ],
   "source": [
    "# visualization\n",
    "coff = np.array([[-0.43104649],[0.80500337],[0]])\n",
    "exp_clf = np.dot(A, coff)\n",
    "y_clf = (1/(1+np.exp(-exp_clf)))\n",
    "\n",
    "exp_grad = np.dot(A, new_theta)\n",
    "y_grad = (1/(1+np.exp(-exp_grad)))\n",
    "\n",
    "\n",
    "fig , aux = plt.subplots()\n",
    "aux.plot(A[:,1],b,'bo' ,A[:,1],  y_clf,'r-')\n",
    "plt.show()"
   ]
  },
  {
   "cell_type": "code",
   "execution_count": 12,
   "metadata": {},
   "outputs": [
    {
     "data": {
      "text/plain": [
       "array([[ 1.        ,  2.7810836 ,  2.550537  ],\n",
       "       [ 1.        ,  1.46548937,  2.36212508],\n",
       "       [ 1.        ,  3.39656169,  4.40029353],\n",
       "       [ 1.        ,  1.38807019,  1.85022032],\n",
       "       [ 1.        ,  3.06407232,  3.00530597],\n",
       "       [ 1.        ,  7.62753121,  2.75926224],\n",
       "       [ 1.        ,  5.33244125,  2.08862677],\n",
       "       [ 1.        ,  6.92259672,  1.77106367],\n",
       "       [ 1.        ,  8.67541865, -0.24206865],\n",
       "       [ 1.        ,  7.67375647,  3.50856301]])"
      ]
     },
     "execution_count": 12,
     "metadata": {},
     "output_type": "execute_result"
    }
   ],
   "source": [
    "A"
   ]
  },
  {
   "cell_type": "code",
   "execution_count": null,
   "metadata": {},
   "outputs": [],
   "source": []
  },
  {
   "cell_type": "code",
   "execution_count": 13,
   "metadata": {},
   "outputs": [
    {
     "data": {
      "text/plain": [
       "array([[0.85908793],\n",
       "       [0.67889044],\n",
       "       [0.90914148],\n",
       "       [0.66515552],\n",
       "       [0.88447855],\n",
       "       [0.99669544],\n",
       "       [0.97939874],\n",
       "       [0.99418607],\n",
       "       [0.99857576],\n",
       "       [0.99681576]])"
      ]
     },
     "execution_count": 13,
     "metadata": {},
     "output_type": "execute_result"
    }
   ],
   "source": [
    "y_clf"
   ]
  },
  {
   "cell_type": "code",
   "execution_count": 14,
   "metadata": {},
   "outputs": [
    {
     "data": {
      "text/plain": [
       "array([0, 0, 0, 0, 0, 1, 1, 1, 1, 1])"
      ]
     },
     "execution_count": 14,
     "metadata": {},
     "output_type": "execute_result"
    }
   ],
   "source": [
    "b"
   ]
  },
  {
   "cell_type": "code",
   "execution_count": 15,
   "metadata": {},
   "outputs": [
    {
     "data": {
      "image/png": "[encoded data removed]",
      "text/plain": [
       "<Figure size 432x288 with 1 Axes>"
      ]
     },
     "metadata": {},
     "output_type": "display_data"
    }
   ],
   "source": [
    "y_clf = np.sort(y_clf, axis=0)\n",
    "fig, aux = plt.subplots()\n",
    "aux.plot(np.sort(A[:,1], axis=0), b, 'bo', np.sort(A[:,1],axis=0), y_clf, 'r-')\n",
    "plt.show()"
   ]
  },
  {
   "cell_type": "code",
   "execution_count": 21,
   "metadata": {},
   "outputs": [
    {
     "data": {
      "image/png": "[encoded data removed]",
      "text/plain": [
       "<Figure size 288x216 with 1 Axes>"
      ]
     },
     "metadata": {},
     "output_type": "display_data"
    }
   ],
   "source": [
    "coff = np.array([[-0.43104649],[0.80500337]])\n",
    "\n",
    "X_test = np.reshape(np.linspace(-5, 10, 300),(300,1))\n",
    "ones = np.ones((300,1))\n",
    "A_new = np.append(ones, X_test, axis=1)\n",
    "\n",
    "coff_grad  = np.array([[-1.58028541],[2.84289799]])\n",
    "exp_clf = np.dot(A_new, coff)\n",
    "exp_grad = np.dot(A_new, coff_grad)\n",
    "y_clf = (1/(1+np.exp(-exp_clf)))\n",
    "y_grad = (1/(1+np.exp(-exp_grad)))\n",
    "\n",
    "#fig, aux = plt.subplots()\n",
    "plt.figure(1, figsize=(4,3))\n",
    "plt.clf()\n",
    "plt.plot(np.sort(A[:,1]), b, 'bo')\n",
    "plt.plot(X_test, y_clf, 'r-')\n",
    "plt.plot(X_test, y_grad, 'g-')\n",
    "plt.show()"
   ]
  },
  {
   "cell_type": "code",
   "execution_count": null,
   "metadata": {},
   "outputs": [],
   "source": []
  },
  {
   "cell_type": "code",
   "execution_count": null,
   "metadata": {},
   "outputs": [],
   "source": []
  }
 ],
 "metadata": {
  "kernelspec": {
   "display_name": "Python 3",
   "language": "python",
   "name": "python3"
  },
  "language_info": {
   "codemirror_mode": {
    "name": "ipython",
    "version": 3
   },
   "file_extension": ".py",
   "mimetype": "text/x-python",
   "name": "python",
   "nbconvert_exporter": "python",
   "pygments_lexer": "ipython3",
   "version": "3.4.3"
  }
 },
 "nbformat": 4,
 "nbformat_minor": 2
}
