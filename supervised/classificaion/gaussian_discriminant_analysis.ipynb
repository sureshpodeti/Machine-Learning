{
 "cells": [
  {
   "cell_type": "code",
   "execution_count": 4,
   "metadata": {},
   "outputs": [],
   "source": [
    "import numpy as np\n",
    "from sklearn import datasets\n",
    "import math"
   ]
  },
  {
   "cell_type": "code",
   "execution_count": 11,
   "metadata": {
    "scrolled": true
   },
   "outputs": [],
   "source": [
    "#  Load the iris dataset\n",
    "iris = datasets.load_iris()\n",
    "no_of_features = len(iris.feature_names)\n",
    "\n",
    "x_class_0, x_class_1 = iris.data[0:50], iris.data[50:100]\n",
    "y_class_0, y_class_1 = iris.target[0:50], iris.target[50:100]"
   ]
  },
  {
   "cell_type": "code",
   "execution_count": 6,
   "metadata": {},
   "outputs": [],
   "source": [
    "# GDA for class_0\n",
    "mean_class_0 = np.mean(x_class_0, axis=0) # mean vector for class 0\n",
    "mean_class_1 = np.mean(x_class_1, axis=0)\n",
    "\n",
    "x_class_0  = x_class_0 - mean_class_0\n",
    "x_class_1 = x_class_1 - mean_class_1"
   ]
  },
  {
   "cell_type": "code",
   "execution_count": null,
   "metadata": {},
   "outputs": [],
   "source": []
  },
  {
   "cell_type": "code",
   "execution_count": 8,
   "metadata": {},
   "outputs": [],
   "source": [
    "covariance_class_0 = np.dot(x_class_0.T, x_class_0) # covariance matrix for class 0\n",
    "covariance_class_1 = np.dot(x_class_1.T, x_class_1)"
   ]
  },
  {
   "cell_type": "code",
   "execution_count": 13,
   "metadata": {},
   "outputs": [],
   "source": [
    "value = np.dot(np.dot(x_class_0, np.linalg.inv(covariance_class_0)), x_class_0.T)\n",
    "prob_class_0 = (1/(math.pow(2*math.pi, 1/no_of_features)*(math.sqrt(np.linalg.det(covariance_class_0))))) * np.exp(-1/2*value)"
   ]
  },
  {
   "cell_type": "code",
   "execution_count": 15,
   "metadata": {},
   "outputs": [
    {
     "data": {
      "text/plain": [
       "(50, 50)"
      ]
     },
     "execution_count": 15,
     "metadata": {},
     "output_type": "execute_result"
    }
   ],
   "source": [
    "prob_class_0.shape"
   ]
  },
  {
   "cell_type": "code",
   "execution_count": 10,
   "metadata": {},
   "outputs": [
    {
     "data": {
      "text/plain": [
       "12.583420550799994"
      ]
     },
     "execution_count": 10,
     "metadata": {},
     "output_type": "execute_result"
    }
   ],
   "source": [
    "np.linalg.det(covariance_class_0)"
   ]
  },
  {
   "cell_type": "code",
   "execution_count": null,
   "metadata": {},
   "outputs": [],
   "source": [
    "math.pow()"
   ]
  },
  {
   "cell_type": "code",
   "execution_count": null,
   "metadata": {},
   "outputs": [],
   "source": []
  }
 ],
 "metadata": {
  "kernelspec": {
   "display_name": "Python 3",
   "language": "python",
   "name": "python3"
  },
  "language_info": {
   "codemirror_mode": {
    "name": "ipython",
    "version": 3
   },
   "file_extension": ".py",
   "mimetype": "text/x-python",
   "name": "python",
   "nbconvert_exporter": "python",
   "pygments_lexer": "ipython3",
   "version": "3.4.3"
  }
 },
 "nbformat": 4,
 "nbformat_minor": 2
}
