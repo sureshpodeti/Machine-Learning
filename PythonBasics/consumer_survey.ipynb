{
 "cells": [
  {
   "cell_type": "code",
   "execution_count": 307,
   "metadata": {},
   "outputs": [],
   "source": [
    "import pandas as pd\n",
    "import numpy as np"
   ]
  },
  {
   "cell_type": "code",
   "execution_count": 308,
   "metadata": {},
   "outputs": [],
   "source": [
    "# read the data from excel file\n",
    "df = pd.read_excel('SurveyForm_analysis.xlsx')"
   ]
  },
  {
   "cell_type": "code",
   "execution_count": 309,
   "metadata": {},
   "outputs": [],
   "source": [
    "# changing the column names\n",
    "df.columns = ['Timestamp', 'Name', 'Profession', 'Gender', 'Age group',\n",
    "       'Residence Type', 'Locality Name', 'City','delivery time','delivery charges',\n",
    "       'installing many apps',  'services','products','suggestions','smart device','unnamed']"
   ]
  },
  {
   "cell_type": "code",
   "execution_count": 310,
   "metadata": {},
   "outputs": [],
   "source": [
    "# store the suggestions\n",
    "suggestions = df['suggestions']\n",
    "\n",
    "\n",
    "# drop unnamed , time stamp, name, locality, suggestions\n",
    "df = df.drop(['Timestamp', 'unnamed', 'Locality Name', 'Name', 'suggestions' ],axis=1)"
   ]
  },
  {
   "cell_type": "code",
   "execution_count": 311,
   "metadata": {},
   "outputs": [],
   "source": [
    "columns = list(df.columns)"
   ]
  },
  {
   "cell_type": "code",
   "execution_count": 312,
   "metadata": {},
   "outputs": [],
   "source": [
    "# mapping female to 0, male to 1\n",
    "gender = {'Female': 0, 'Male':1}\n",
    "df['Gender'] = df['Gender'].map(gender)"
   ]
  },
  {
   "cell_type": "code",
   "execution_count": 313,
   "metadata": {},
   "outputs": [],
   "source": [
    "# mapping age group\n",
    "age_group = { 'Below 18 yrs': 0, '18 -25 yrs':1, '25 - 35 yrs': 2, '26 - 35 yrs' :2,  'Above 35 yrs': 3}\n",
    "df['Age group'] = df['Age group'].map(age_group)"
   ]
  },
  {
   "cell_type": "code",
   "execution_count": 314,
   "metadata": {},
   "outputs": [],
   "source": [
    "# mapping profession\n",
    "profession = { 'Student': 0, 'Employee':1, 'Business Man': 2, 'Business' :2,  'Others': 3}\n",
    "df['Profession'] = df['Profession'].map(profession)\n",
    "df['Profession'] = df['Profession'].fillna(3)"
   ]
  },
  {
   "cell_type": "code",
   "execution_count": 315,
   "metadata": {},
   "outputs": [],
   "source": [
    "# mapping residence type\n",
    "residence = { 'Flat / Residency': 0, 'Pg / Hostel accomodation':1, 'PG/Hostel accommodation': 1}\n",
    "df['Residence Type'] = df['Residence Type'].map(residence)\n",
    "df['Residence Type' ] = df['Residence Type'].fillna(0)"
   ]
  },
  {
   "cell_type": "code",
   "execution_count": 316,
   "metadata": {},
   "outputs": [],
   "source": [
    "# mapping city\n",
    "city = {'Pune':4,\n",
    "        'Rajanna siricilla': 1, \n",
    "        'Hyderabad': 1,\n",
    "        'Warangal':1,\n",
    "       'West Imphal':16, 'Pune ':4, 'Mumbai':2, 'Hyderabad ':1, 'Wgl':1,\n",
    "       'Hanamkonda':1, 'Kataram':1, 'Karimnagar':1, 'Bhupalapally':1, 'Huderabad':1,\n",
    "       'Kochi':13, 'Bokaro':14, 'minneapolis ':1, 'Bhupalpally':1, 'benguluru':0,\n",
    "       'Raichur':17, 'Rjy':8, 'Pune(obvious):':4, 'Kharagpur':6, 'Hyberabad':1,\n",
    "       'khagaria':18, 'Chennai':5, 'delhi':3, 'Bangalorr:':0, 'Bangalore':0,\n",
    "       'Kolkata ':6, 'Bihar':18, 'Kolkata':6, 'Gurgaon':7, 'Bhagalpur':18, 'Bagaha':18,\n",
    "       'Motihari':18, 'Ranchi':11, 'Manila':18, 'Jaipur':10, 'Gurugram':7, 'Chaibasa':18,\n",
    "       'Noida':12, 'kochi':13, 'Jamshedpur':14, 'bijapur':18, 'chandigarh ':15, 'Delhi':3,\n",
    "       'VISAKHAPATNAM':8, 'Tirupati':8, 'Bhubaneswar':9, 'HUBLI':19, 'Jaipur ':10,\n",
    "       'Anantapur':8, 'vijayawada':8, 'Ludhiana':15, 'warangal':1, 'Chennai ':5,\n",
    "       'Dharmaram':13, 'New Delhi':3, 'Darmstadt':13, 'Den Haag':3, 'Bremen':13,\n",
    "       'Bonn':13, 'Bengaluru': 0, 'BANGALORE':0}\n",
    "\n",
    "\n",
    "df['City'] = df['City'].map(city)\n",
    "df['City'] = df['City'].fillna(0)"
   ]
  },
  {
   "cell_type": "code",
   "execution_count": 320,
   "metadata": {},
   "outputs": [],
   "source": [
    "# mapping opinion on more delivery time\n",
    "more_delivery_time = {'Yes':1, 'No':0}\n",
    "df['delivery time'] = df['delivery time'].map(more_delivery_time)"
   ]
  },
  {
   "cell_type": "code",
   "execution_count": 323,
   "metadata": {},
   "outputs": [],
   "source": [
    "# mapping opinion on more delivery cost\n",
    "more_delivery_cost = {'Yes':1, 'No':0}\n",
    "df['delivery charges'] = df['delivery charges'].map(more_delivery_time)"
   ]
  },
  {
   "cell_type": "code",
   "execution_count": 326,
   "metadata": {},
   "outputs": [],
   "source": [
    "# mapping opinion on installing different apps\n",
    "installing_various_apps = {'Yes':1, 'No':0}\n",
    "df['installing many apps'] = df['installing many apps'].map(installing_various_apps)"
   ]
  },
  {
   "cell_type": "code",
   "execution_count": 327,
   "metadata": {},
   "outputs": [],
   "source": [
    "# mapping services \n",
    "services = {'Laundry':1,  'Drinking water supply':2, 'House/Room Cleaning':3,  'Electrician services':4,  'Automobile services':5 ,  'Gadgets/Electronics service':6,\n",
    "           'Tailoring':7, 'Plumber service':8,  'Salon service':9  ,'House Painting':10, 'Above all':0 \n",
    "           }\n",
    "\n",
    "import re\n",
    "serv = {}\n",
    "for key in services:\n",
    "    if key == 'Above all':\n",
    "        key = \"all services\"\n",
    "    serv[key] = [1  if re.search(key, str(service))  else 0 for service in df['services']]"
   ]
  },
  {
   "cell_type": "code",
   "execution_count": 328,
   "metadata": {},
   "outputs": [],
   "source": [
    "# mapping products \n",
    "products = {'Vegetables and Fruits':1,  'Dairy products':2, 'Grocery':3,  'Bakery items':4,  'Medical products':5 ,  'Meat supply':6,\n",
    "           'Clothes/Garments':7,  'Above all':0 \n",
    "           }\n",
    "\n",
    "import re\n",
    "prod = {}\n",
    "for key in products:\n",
    "    if key == 'Above all':\n",
    "        key = 'all products'\n",
    "    prod[key] = [1  if re.search(key, str(service))  else 0 for service in df['products']]\n"
   ]
  },
  {
   "cell_type": "code",
   "execution_count": 329,
   "metadata": {},
   "outputs": [],
   "source": [
    "# drop service , products columns i.e 11 th and 12 th column\n",
    "df = df.drop(['services', 'products'], axis=1)"
   ]
  },
  {
   "cell_type": "code",
   "execution_count": 330,
   "metadata": {},
   "outputs": [],
   "source": [
    "# insert  the new column by each service \n",
    "start = 8\n",
    "\n",
    "for key in serv:\n",
    "    df.insert(loc=start, column=key, value=serv[key])\n",
    "    start += 1"
   ]
  },
  {
   "cell_type": "code",
   "execution_count": 331,
   "metadata": {},
   "outputs": [],
   "source": [
    "# insert  the new column by each product \n",
    "start = 19\n",
    "\n",
    "for key in prod:\n",
    "    df.insert(loc=start, column=key, value=prod[key])\n",
    "    start += 1"
   ]
  },
  {
   "cell_type": "code",
   "execution_count": 332,
   "metadata": {},
   "outputs": [],
   "source": [
    "# mapping opinion on smart device\n",
    "smart_device = {'Yes':1, 'No':0, 'NaN':2}\n",
    "df['smart device'] = df['smart device'].map(smart_device)\n",
    "df['smart device'] = df['smart device'].fillna(2)"
   ]
  },
  {
   "cell_type": "code",
   "execution_count": 334,
   "metadata": {},
   "outputs": [],
   "source": [
    "# drop any na values \n",
    "df = df.dropna()"
   ]
  },
  {
   "cell_type": "code",
   "execution_count": 336,
   "metadata": {},
   "outputs": [],
   "source": [
    "# convert the data to numeric\n",
    "df = df.apply(pd.to_numeric)"
   ]
  },
  {
   "cell_type": "code",
   "execution_count": 337,
   "metadata": {},
   "outputs": [],
   "source": [
    "# convert City, smart device columns to int\n",
    "df.City = df.City.astype(int)\n",
    "df['smart device'] = df['smart device'].astype(int)"
   ]
  },
  {
   "cell_type": "code",
   "execution_count": 338,
   "metadata": {},
   "outputs": [],
   "source": [
    "# get the numpy matrix from the dataframe\n",
    "data = df.values"
   ]
  },
  {
   "cell_type": "code",
   "execution_count": 339,
   "metadata": {},
   "outputs": [],
   "source": [
    "# final column list\n",
    "COLUMNS = df.columns"
   ]
  },
  {
   "cell_type": "code",
   "execution_count": 340,
   "metadata": {},
   "outputs": [],
   "source": [
    "# dataset size\n",
    "(m, n) = data.shape"
   ]
  },
  {
   "cell_type": "code",
   "execution_count": 341,
   "metadata": {},
   "outputs": [],
   "source": [
    "# Get the percentage partician from hyderbad and bangalore\n",
    "COUNT_FROM_HYD = np.sum(data[:, 4]== 1)\n",
    "PERCENTAGE_PARTICIPATION_HYD = (COUNT_FROM_HYD/m)*100\n",
    "\n",
    "COUNT_FROM_BLR = np.sum(data[:, 4]== 0)\n",
    "PERCENTAGE_PARTICIPATION_BLR = (COUNT_FROM_BLR/m)*100"
   ]
  },
  {
   "cell_type": "code",
   "execution_count": 342,
   "metadata": {},
   "outputs": [
    {
     "name": "stdout",
     "output_type": "stream",
     "text": [
      "Hyd: 57, Blr: 63\n"
     ]
    }
   ],
   "source": [
    "#counts\n",
    "print(\"Hyd: {}, Blr: {}\".format(COUNT_FROM_HYD, COUNT_FROM_BLR))"
   ]
  },
  {
   "cell_type": "code",
   "execution_count": 271,
   "metadata": {},
   "outputs": [
    {
     "data": {
      "text/plain": [
       "(71, 28)"
      ]
     },
     "execution_count": 271,
     "metadata": {},
     "output_type": "execute_result"
    }
   ],
   "source": [
    "data.shape"
   ]
  },
  {
   "cell_type": "code",
   "execution_count": 272,
   "metadata": {},
   "outputs": [
    {
     "data": {
      "text/plain": [
       "(71, 28)"
      ]
     },
     "execution_count": 272,
     "metadata": {},
     "output_type": "execute_result"
    }
   ],
   "source": [
    "df.shape"
   ]
  },
  {
   "cell_type": "code",
   "execution_count": null,
   "metadata": {},
   "outputs": [],
   "source": []
  }
 ],
 "metadata": {
  "kernelspec": {
   "display_name": "Python 3",
   "language": "python",
   "name": "python3"
  },
  "language_info": {
   "codemirror_mode": {
    "name": "ipython",
    "version": 3
   },
   "file_extension": ".py",
   "mimetype": "text/x-python",
   "name": "python",
   "nbconvert_exporter": "python",
   "pygments_lexer": "ipython3",
   "version": "3.4.3"
  }
 },
 "nbformat": 4,
 "nbformat_minor": 2
}
