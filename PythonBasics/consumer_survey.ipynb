{
 "cells": [
  {
   "cell_type": "code",
   "execution_count": 1,
   "metadata": {},
   "outputs": [],
   "source": [
    "import pandas as pd\n",
    "import numpy as np"
   ]
  },
  {
   "cell_type": "code",
   "execution_count": 75,
   "metadata": {},
   "outputs": [],
   "source": [
    "# read the data from excel file\n",
    "df = pd.read_excel('consumer_survey.xlsx')"
   ]
  },
  {
   "cell_type": "code",
   "execution_count": 76,
   "metadata": {},
   "outputs": [],
   "source": [
    "# changing the column names\n",
    "df.columns = ['Timestamp', 'Name', 'Gender',  'Age group','Profession', 'City', 'Locality Name',\n",
    "       'Residence Type', 'delivery time','delivery charges',\n",
    "       'installing many apps',  'services','smart device', 'products','suggestions']"
   ]
  },
  {
   "cell_type": "code",
   "execution_count": 77,
   "metadata": {},
   "outputs": [],
   "source": [
    "# store the suggestions\n",
    "suggestions = df['suggestions']\n",
    "\n",
    "\n",
    "# drop unnamed , time stamp, name, locality, suggestions\n",
    "df = df.drop(['Timestamp','Name', 'Locality Name', 'suggestions' ],axis=1)"
   ]
  },
  {
   "cell_type": "code",
   "execution_count": 78,
   "metadata": {},
   "outputs": [],
   "source": [
    "columns = list(df.columns)"
   ]
  },
  {
   "cell_type": "code",
   "execution_count": 79,
   "metadata": {},
   "outputs": [],
   "source": [
    "# mapping female to 0, male to 1\n",
    "gender = {'Female': 0, 'Male':1}\n",
    "df['Gender'] = df['Gender'].map(gender)"
   ]
  },
  {
   "cell_type": "code",
   "execution_count": 80,
   "metadata": {},
   "outputs": [],
   "source": [
    "# mapping age group\n",
    "age_group = { 'Below 18 yrs': 0, '18 -25 yrs':1, '25 - 35 yrs': 2, '26 - 35 yrs' :2,  'Above 35 yrs': 3}\n",
    "df['Age group'] = df['Age group'].map(age_group)"
   ]
  },
  {
   "cell_type": "code",
   "execution_count": 81,
   "metadata": {},
   "outputs": [],
   "source": [
    "# mapping profession\n",
    "profession = { 'Student': 0, 'Employee':1, 'Business Man': 2, 'Business' :2,  'Others': 3}\n",
    "df['Profession'] = df['Profession'].map(profession)\n",
    "df['Profession'] = df['Profession'].fillna(3)"
   ]
  },
  {
   "cell_type": "code",
   "execution_count": 82,
   "metadata": {},
   "outputs": [],
   "source": [
    "# mapping residence type\n",
    "residence = { 'Flat / Residency': 0, 'Flat/Residency':0,  'Pg / Hostel accomodation':1, 'PG/Hostel accommodation': 1}\n",
    "df['Residence Type'] = df['Residence Type'].map(residence)\n",
    "df['Residence Type' ] = df['Residence Type'].fillna(0)"
   ]
  },
  {
   "cell_type": "code",
   "execution_count": 83,
   "metadata": {},
   "outputs": [],
   "source": [
    "# mapping city\n",
    "city = {'bangalore':0, 'Bangalore':0, 'pune':3, 'Rajanna siricilla':10, 'hyderabad':1,\n",
    "       'Warangal':10, 'West Imphal':10, 'Hyderabad':1, 'HYDERABAD':1, 'Bangalore ':0,\n",
    "       'Mumbai':4, 'Hyderabad ':1, 'Wgl':10, 'Hanamkonda':10, 'Kataram':10,\n",
    "       'Karimnagar':10, 'Hyderbad':1, 'Bhupalapally':10, 'Hyderbadh':1, 'Huderabad':1,\n",
    "       'Hyd ':1, 'Kochi':10, 'Bokaro':10, 'minneapolis ':10, 'Bhupalpally':10,\n",
    "       'benguluru':0, 'Raichur':10, 'Rjy':10, 'bangalore(obvious)':0, 'Hyd':1,\n",
    "       'Kharagpur':6, 'Hyberabad':1, 'khagaria':10, 'Chennai':5, 'delhi':2,\n",
    "       'Bangalorr':0, 'Bengaluru':0, 'Kolkata ':6, 'Bihar':10, 'Kolkata':6,\n",
    "       'Gurgaon':7, 'Bhagalpur':10, 'Bagaha':10, 'Motihari':10, 'Ranchi':10, 'Manila':10,\n",
    "       'Jaipur':8, 'Gurugram':7, 'Chaibasa':10, 'Noida':7, 'Banglore':0, 'kochi':10,\n",
    "       'Jamshedpur':10, 'bijapur':10, 'chandigarh ':9, 'Delhi ':2, 'Pune':3,\n",
    "       'VISAKHAPATNAM':10, 'bengaluru':0, 'Tirupati':10, 'Bhubaneswar':10, 'HUBLI':10,\n",
    "       'BANGALORE':0, 'Jaipur ':8, 'Anantapur':10, 'vijayawada':10, 'Ludhiana':10,\n",
    "       'warangal':10, 'hyd':1, 'Chennai ':5, 'Delhi':2, 'Dharmaram':10, 'New Delhi':2,\n",
    "       'Darmstadt':10, 'Den Haag':10, 'Bremen':10, 'Bonn':10}\n",
    "\n",
    "\n",
    "df['City'] = df['City'].map(city)\n",
    "df['City'] = df['City'].fillna(10)"
   ]
  },
  {
   "cell_type": "code",
   "execution_count": 84,
   "metadata": {},
   "outputs": [],
   "source": [
    "# mapping opinion on more delivery time\n",
    "more_delivery_time = {'Yes':1, 'No':0}\n",
    "df['delivery time'] = df['delivery time'].map(more_delivery_time)"
   ]
  },
  {
   "cell_type": "code",
   "execution_count": 85,
   "metadata": {},
   "outputs": [],
   "source": [
    "# mapping opinion on more delivery cost\n",
    "more_delivery_cost = {'Yes':1, 'No':0}\n",
    "df['delivery charges'] = df['delivery charges'].map(more_delivery_time)"
   ]
  },
  {
   "cell_type": "code",
   "execution_count": 89,
   "metadata": {},
   "outputs": [],
   "source": [
    "# mapping opinion on installing different apps\n",
    "installing_various_apps = {'Yes':1, 'No':0}\n",
    "df['installing many apps'] = df['installing many apps'].map(installing_various_apps)"
   ]
  },
  {
   "cell_type": "code",
   "execution_count": 91,
   "metadata": {},
   "outputs": [],
   "source": [
    "# mapping services \n",
    "services = {'Laundry':1,  'Drinking water supply':2, 'House/Room Cleaning':3,  'Electrician services':4,  'Automobile services':5 ,  'Gadgets/Electronics service':6,\n",
    "           'Tailoring':7, 'Plumber service':8,  'Salon service':9  ,'House Painting':10, 'Above all':0 \n",
    "           }\n",
    "\n",
    "import re\n",
    "serv = {}\n",
    "for key in services:\n",
    "    if key == 'Above all':\n",
    "        key = \"all services\"\n",
    "    serv[key] = [1  if re.search(key, str(service))  else 0 for service in df['services']]"
   ]
  },
  {
   "cell_type": "code",
   "execution_count": 92,
   "metadata": {},
   "outputs": [],
   "source": [
    "# mapping products \n",
    "products = {'Vegetables and Fruits':1,  'Dairy products':2, 'Grocery':3,  'Bakery items':4,  'Medical products':5 ,  'Meat supply':6,\n",
    "           'Clothes/Garments':7,  'Above all':0 \n",
    "           }\n",
    "\n",
    "import re\n",
    "prod = {}\n",
    "for key in products:\n",
    "    if key == 'Above all':\n",
    "        key = 'all products'\n",
    "    prod[key] = [1  if re.search(key, str(service))  else 0 for service in df['products']]\n"
   ]
  },
  {
   "cell_type": "code",
   "execution_count": 93,
   "metadata": {},
   "outputs": [],
   "source": [
    "# drop service , products columns i.e 11 th and 12 th column\n",
    "df = df.drop(['services', 'products'], axis=1)"
   ]
  },
  {
   "cell_type": "code",
   "execution_count": 95,
   "metadata": {},
   "outputs": [],
   "source": [
    "# insert  the new column by each service \n",
    "start = 8\n",
    "\n",
    "for key in serv:\n",
    "    df.insert(loc=start, column=key, value=serv[key])\n",
    "    start += 1"
   ]
  },
  {
   "cell_type": "code",
   "execution_count": 96,
   "metadata": {},
   "outputs": [],
   "source": [
    "# insert  the new column by each product \n",
    "start = 19\n",
    "\n",
    "for key in prod:\n",
    "    df.insert(loc=start, column=key, value=prod[key])\n",
    "    start += 1"
   ]
  },
  {
   "cell_type": "code",
   "execution_count": 97,
   "metadata": {},
   "outputs": [],
   "source": [
    "# mapping opinion on smart device\n",
    "smart_device = {'Yes':1, 'No':0, 'NaN':2}\n",
    "df['smart device'] = df['smart device'].map(smart_device)\n",
    "df['smart device'] = df['smart device'].fillna(2)"
   ]
  },
  {
   "cell_type": "code",
   "execution_count": 98,
   "metadata": {},
   "outputs": [],
   "source": [
    "# drop any na values \n",
    "df = df.dropna()"
   ]
  },
  {
   "cell_type": "code",
   "execution_count": 99,
   "metadata": {},
   "outputs": [],
   "source": [
    "# convert the data to numeric\n",
    "df = df.apply(pd.to_numeric)"
   ]
  },
  {
   "cell_type": "code",
   "execution_count": 100,
   "metadata": {},
   "outputs": [],
   "source": [
    "# convert City, smart device columns to int\n",
    "df.City = df.City.astype(int)\n",
    "df['smart device'] = df['smart device'].astype(int)"
   ]
  },
  {
   "cell_type": "code",
   "execution_count": 101,
   "metadata": {},
   "outputs": [],
   "source": [
    "# get the numpy matrix from the dataframe\n",
    "data = df.values\n",
    "\n",
    "\n",
    "# convert to int\n",
    "data = data.astype(int)"
   ]
  },
  {
   "cell_type": "code",
   "execution_count": 102,
   "metadata": {},
   "outputs": [],
   "source": [
    "# final column list\n",
    "COLUMNS = df.columns"
   ]
  },
  {
   "cell_type": "code",
   "execution_count": 107,
   "metadata": {},
   "outputs": [],
   "source": [
    "# dataset size\n",
    "(m, n) = data.shape"
   ]
  },
  {
   "cell_type": "code",
   "execution_count": 115,
   "metadata": {},
   "outputs": [],
   "source": [
    "# Get the percentage partician from hyderbad and bangalore\n",
    "#PARTICIPATION = {'hyderbad':, 'bangalore':, 'pune':, }\n",
    "\n",
    "COUNT_FROM_HYD = np.sum(data[:, 3]== 1)\n",
    "PERCENTAGE_PARTICIPATION_HYD = (COUNT_FROM_HYD/m)*100\n",
    "\n",
    "COUNT_FROM_BLR = np.sum(data[:, 3]== 0)\n",
    "PERCENTAGE_PARTICIPATION_BLR = (COUNT_FROM_BLR/m)*100"
   ]
  },
  {
   "cell_type": "code",
   "execution_count": 116,
   "metadata": {},
   "outputs": [
    {
     "name": "stdout",
     "output_type": "stream",
     "text": [
      "Hyd: 62, Blr: 63\n"
     ]
    }
   ],
   "source": [
    "#counts\n",
    "print(\"Hyd: {}, Blr: {}\".format(COUNT_FROM_HYD, COUNT_FROM_BLR))"
   ]
  },
  {
   "cell_type": "code",
   "execution_count": 140,
   "metadata": {},
   "outputs": [
    {
     "data": {
      "text/plain": [
       "50"
      ]
     },
     "execution_count": 140,
     "metadata": {},
     "output_type": "execute_result"
    }
   ],
   "source": [
    "np.sum(data[:, 3]==10)"
   ]
  },
  {
   "cell_type": "code",
   "execution_count": 344,
   "metadata": {},
   "outputs": [],
   "source": [
    "import matptlib.pyplot as plt"
   ]
  },
  {
   "cell_type": "code",
   "execution_count": 365,
   "metadata": {},
   "outputs": [
    {
     "data": {
      "image/png": "[encoded data removed]",
      "text/plain": [
       "<Figure size 432x288 with 1 Axes>"
      ]
     },
     "metadata": {},
     "output_type": "display_data"
    }
   ],
   "source": [
    "fig, aux = plt.subplots()\n",
    "city = ['Bangalore', 'Hyderabad']\n",
    "participation = [COUNT_FROM_BLR, COUNT_FROM_HYD]\n",
    "aux.bar(city, height=[COUNT_FROM_BLR, COUNT_FROM_HYD])\n",
    "plt.ylabel('Participation count')\n",
    "for i, txt in enumerate(participation):\n",
    "    aux.annotate(txt, (city[i], participation[i]))\n",
    "fig.savefig('participation count.png')\n",
    "plt.show()"
   ]
  },
  {
   "cell_type": "code",
   "execution_count": 368,
   "metadata": {},
   "outputs": [],
   "source": [
    "# bangalore data\n",
    "BANGALORE = data[data[:, 4]==0, :]\n",
    "\n",
    "\n",
    "# hyderbadd data\n",
    "HYDERBAD =  data[data[:, 4]==1, :]"
   ]
  },
  {
   "cell_type": "code",
   "execution_count": 390,
   "metadata": {},
   "outputs": [
    {
     "ename": "TypeError",
     "evalue": "Cannot cast array data from dtype('float64') to dtype('int64') according to the rule 'safe'",
     "output_type": "error",
     "traceback": [
      "\u001b[0;31m---------------------------------------------------------------------------\u001b[0m",
      "\u001b[0;31mTypeError\u001b[0m                                 Traceback (most recent call last)",
      "\u001b[0;32m<ipython-input-390-d88ec8ad94cf>\u001b[0m in \u001b[0;36m<module>\u001b[0;34m()\u001b[0m\n\u001b[0;32m----> 1\u001b[0;31m \u001b[0mnp\u001b[0m\u001b[0;34m.\u001b[0m\u001b[0mbincount\u001b[0m\u001b[0;34m(\u001b[0m\u001b[0mBANGALORE\u001b[0m\u001b[0;34m[\u001b[0m\u001b[0;34m:\u001b[0m\u001b[0;34m,\u001b[0m \u001b[0;36m2\u001b[0m\u001b[0;34m]\u001b[0m\u001b[0;34m)\u001b[0m\u001b[0;34m.\u001b[0m\u001b[0margmax\u001b[0m\u001b[0;34m(\u001b[0m\u001b[0;34m)\u001b[0m\u001b[0;34m\u001b[0m\u001b[0m\n\u001b[0m\u001b[1;32m      2\u001b[0m \u001b[0;31m#np.sum(BANGALORE[:, 2]==2)\u001b[0m\u001b[0;34m\u001b[0m\u001b[0;34m\u001b[0m\u001b[0m\n",
      "\u001b[0;31mTypeError\u001b[0m: Cannot cast array data from dtype('float64') to dtype('int64') according to the rule 'safe'"
     ]
    }
   ],
   "source": [
    "np.bincount(BANGALORE[:, 2]).argmax()\n",
    "#np.sum(BANGALORE[:, 2]==2)"
   ]
  },
  {
   "cell_type": "code",
   "execution_count": 392,
   "metadata": {},
   "outputs": [
    {
     "data": {
      "text/plain": [
       "array([[3., 0., 1., ..., 0., 0., 2.],\n",
       "       [0., 1., 1., ..., 0., 0., 2.],\n",
       "       [1., 1., 2., ..., 0., 0., 2.],\n",
       "       ...,\n",
       "       [0., 1., 1., ..., 0., 0., 0.],\n",
       "       [3., 1., 1., ..., 1., 1., 1.],\n",
       "       [1., 1., 2., ..., 1., 0., 0.]])"
      ]
     },
     "execution_count": 392,
     "metadata": {},
     "output_type": "execute_result"
    }
   ],
   "source": [
    "BANGALORE."
   ]
  },
  {
   "cell_type": "code",
   "execution_count": 387,
   "metadata": {},
   "outputs": [
    {
     "data": {
      "text/plain": [
       "array([[3, 0, 1, ..., 0, 0, 2],\n",
       "       [0, 1, 1, ..., 0, 0, 2],\n",
       "       [1, 1, 2, ..., 0, 0, 2],\n",
       "       ...,\n",
       "       [3, 1, 1, ..., 1, 1, 1],\n",
       "       [1, 1, 1, ..., 1, 0, 0],\n",
       "       [1, 1, 2, ..., 1, 0, 0]])"
      ]
     },
     "execution_count": 387,
     "metadata": {},
     "output_type": "execute_result"
    }
   ],
   "source": [
    "data.astype(int)"
   ]
  },
  {
   "cell_type": "code",
   "execution_count": null,
   "metadata": {},
   "outputs": [],
   "source": []
  }
 ],
 "metadata": {
  "kernelspec": {
   "display_name": "Python 3",
   "language": "python",
   "name": "python3"
  },
  "language_info": {
   "codemirror_mode": {
    "name": "ipython",
    "version": 3
   },
   "file_extension": ".py",
   "mimetype": "text/x-python",
   "name": "python",
   "nbconvert_exporter": "python",
   "pygments_lexer": "ipython3",
   "version": "3.4.3"
  }
 },
 "nbformat": 4,
 "nbformat_minor": 2
}
