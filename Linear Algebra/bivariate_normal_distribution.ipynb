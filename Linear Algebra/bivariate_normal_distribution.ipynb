{
 "cells": [
  {
   "cell_type": "code",
   "execution_count": 16,
   "metadata": {},
   "outputs": [],
   "source": [
    "import numpy as np\n",
    "import math"
   ]
  },
  {
   "cell_type": "code",
   "execution_count": 9,
   "metadata": {},
   "outputs": [],
   "source": [
    "# data\n",
    "A = np.array([[10,12],[8,9],[10,15],[10,10],[11,13],[11,13]])"
   ]
  },
  {
   "cell_type": "code",
   "execution_count": 10,
   "metadata": {},
   "outputs": [],
   "source": [
    "covarience_matrix = np.cov(A.T) # using python's covariance "
   ]
  },
  {
   "cell_type": "code",
   "execution_count": 11,
   "metadata": {},
   "outputs": [
    {
     "data": {
      "text/plain": [
       "array([10., 12.])"
      ]
     },
     "execution_count": 11,
     "metadata": {},
     "output_type": "execute_result"
    }
   ],
   "source": [
    "mean_vector =np.mean(A, axis=0)\n",
    "mean_vector"
   ]
  },
  {
   "cell_type": "code",
   "execution_count": 12,
   "metadata": {},
   "outputs": [
    {
     "data": {
      "text/plain": [
       "array([[ 0.,  0.],\n",
       "       [-2., -3.],\n",
       "       [ 0.,  3.],\n",
       "       [ 0., -2.],\n",
       "       [ 1.,  1.],\n",
       "       [ 1.,  1.]])"
      ]
     },
     "execution_count": 12,
     "metadata": {},
     "output_type": "execute_result"
    }
   ],
   "source": [
    "# modified A\n",
    "A = A - np.mean(A, axis=0)\n",
    "A"
   ]
  },
  {
   "cell_type": "code",
   "execution_count": 21,
   "metadata": {},
   "outputs": [
    {
     "name": "stdout",
     "output_type": "stream",
     "text": [
      "0.22301551451909635\n",
      "0.041253722076790206\n",
      "0.04125372207679021\n",
      "0.10534506980114927\n",
      "0.14398963831981273\n",
      "0.14398963831981273\n"
     ]
    }
   ],
   "source": [
    "m,n = A.shape[0], A.shape[1]\n",
    "A_T = A.T\n",
    "for i in range(0,m):\n",
    "    value = np.dot(np.dot(A[i:i+1,], np.linalg.inv(covarience_matrix)), A_T[:, i:i+1])[0,0]\n",
    "    prob = (1/(math.pow(2*math.pi, 1/n)*(math.sqrt(np.linalg.det(covarience_matrix))))) * np.exp(-1/2*value)\n",
    "    print(prob)\n"
   ]
  },
  {
   "cell_type": "code",
   "execution_count": null,
   "metadata": {},
   "outputs": [],
   "source": []
  }
 ],
 "metadata": {
  "kernelspec": {
   "display_name": "Python 3",
   "language": "python",
   "name": "python3"
  },
  "language_info": {
   "codemirror_mode": {
    "name": "ipython",
    "version": 3
   },
   "file_extension": ".py",
   "mimetype": "text/x-python",
   "name": "python",
   "nbconvert_exporter": "python",
   "pygments_lexer": "ipython3",
   "version": "3.4.3"
  }
 },
 "nbformat": 4,
 "nbformat_minor": 2
}
