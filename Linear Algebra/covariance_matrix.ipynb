{
 "cells": [
  {
   "cell_type": "code",
   "execution_count": 1,
   "metadata": {},
   "outputs": [],
   "source": [
    "import numpy as np"
   ]
  },
  {
   "cell_type": "code",
   "execution_count": 12,
   "metadata": {},
   "outputs": [],
   "source": [
    "\"\"\"\n",
    "For sample: variance = (x1 - mu)^2 + (x2 -mu)^2 + ... + (xm - mu)^2 / (m-1)\n",
    "For population: variance = (x1 - mu)^2 + (x2 -mu)^2 + ... + (xm - mu)^2 / (m)\n",
    "\n",
    "Why population has m term as dinominator and sample has (m-1)?\n",
    "  Answer: If we random sample from the resonably large population and compute the variance of the sample, and\n",
    "  then we want to infere the variance for the population by calculating the variance for sample.\n",
    "  \n",
    "  Sample variance is always less than the population variance, and in infering variance for population is a bit less than the real \n",
    "  population variance. However, how many random sample we take and compute we will get the same results.\n",
    "  \n",
    "  To avoid that bias we need to divide it by (m-1) to get the close approximate of the population variance.\n",
    "\n",
    "\"\"\"\n",
    "\n",
    "# data\n",
    "'''\n",
    "   x  | y\n",
    "--------\n",
    "  3  | 7\n",
    "  2  | 4 \n",
    "'''\n",
    "\n",
    "A = np.array([[3,7],[2,4]])"
   ]
  },
  {
   "cell_type": "code",
   "execution_count": 14,
   "metadata": {},
   "outputs": [
    {
     "data": {
      "text/plain": [
       "array([[0.5, 1.5],\n",
       "       [1.5, 4.5]])"
      ]
     },
     "execution_count": 14,
     "metadata": {},
     "output_type": "execute_result"
    }
   ],
   "source": [
    "np.cov(A.T) # using python's covariance "
   ]
  },
  {
   "cell_type": "code",
   "execution_count": 3,
   "metadata": {},
   "outputs": [],
   "source": [
    "A = A - np.mean(A, axis=0)"
   ]
  },
  {
   "cell_type": "code",
   "execution_count": 4,
   "metadata": {},
   "outputs": [
    {
     "data": {
      "text/plain": [
       "array([[ 0.5,  1.5],\n",
       "       [-0.5, -1.5]])"
      ]
     },
     "execution_count": 4,
     "metadata": {},
     "output_type": "execute_result"
    }
   ],
   "source": [
    "A"
   ]
  },
  {
   "cell_type": "code",
   "execution_count": 6,
   "metadata": {},
   "outputs": [],
   "source": [
    "covariance_matrix = np.dot(A.T, A)"
   ]
  },
  {
   "cell_type": "code",
   "execution_count": 7,
   "metadata": {},
   "outputs": [
    {
     "data": {
      "text/plain": [
       "array([[0.5, 1.5],\n",
       "       [1.5, 4.5]])"
      ]
     },
     "execution_count": 7,
     "metadata": {},
     "output_type": "execute_result"
    }
   ],
   "source": [
    "covariance_matrix"
   ]
  },
  {
   "cell_type": "code",
   "execution_count": null,
   "metadata": {},
   "outputs": [],
   "source": []
  },
  {
   "cell_type": "code",
   "execution_count": null,
   "metadata": {},
   "outputs": [],
   "source": []
  }
 ],
 "metadata": {
  "kernelspec": {
   "display_name": "Python 3",
   "language": "python",
   "name": "python3"
  },
  "language_info": {
   "codemirror_mode": {
    "name": "ipython",
    "version": 3
   },
   "file_extension": ".py",
   "mimetype": "text/x-python",
   "name": "python",
   "nbconvert_exporter": "python",
   "pygments_lexer": "ipython3",
   "version": "3.4.3"
  }
 },
 "nbformat": 4,
 "nbformat_minor": 2
}
