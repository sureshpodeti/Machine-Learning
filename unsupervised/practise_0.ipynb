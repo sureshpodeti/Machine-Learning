{
 "cells": [
  {
   "cell_type": "code",
   "execution_count": 1,
   "metadata": {},
   "outputs": [],
   "source": [
    "import numpy as np\n",
    "import matplotlib.pyplot as plt"
   ]
  },
  {
   "cell_type": "code",
   "execution_count": 2,
   "metadata": {},
   "outputs": [],
   "source": [
    "x = np.array([[1,1],[2,1],[3,1],[7,2],[8,2],[9,2]])"
   ]
  },
  {
   "cell_type": "code",
   "execution_count": 3,
   "metadata": {},
   "outputs": [
    {
     "data": {
      "image/png": "[encoded data removed]",
      "text/plain": [
       "<Figure size 432x288 with 1 Axes>"
      ]
     },
     "metadata": {},
     "output_type": "display_data"
    }
   ],
   "source": [
    "fig, aux = plt.subplots()\n",
    "aux.plot(x[:, 0], x[:, 1], 'bo')\n",
    "plt.show()"
   ]
  },
  {
   "cell_type": "code",
   "execution_count": 4,
   "metadata": {},
   "outputs": [],
   "source": [
    "no_of_centroids = 2"
   ]
  },
  {
   "cell_type": "code",
   "execution_count": 5,
   "metadata": {},
   "outputs": [],
   "source": [
    "m, n = x.shape[0], x.shape[1]"
   ]
  },
  {
   "cell_type": "code",
   "execution_count": 19,
   "metadata": {},
   "outputs": [],
   "source": [
    "#  initilaize labels\n",
    "labels = np.repeat(0, m)"
   ]
  },
  {
   "cell_type": "code",
   "execution_count": 6,
   "metadata": {},
   "outputs": [],
   "source": [
    "#  Randomly initialize centroids\n",
    "centroid1 = np.random.randint(0,11,size=(n,1))\n",
    "centroid2 = np.random.randint(0,11, size=(n,1))"
   ]
  },
  {
   "cell_type": "code",
   "execution_count": 15,
   "metadata": {},
   "outputs": [],
   "source": [
    "# compute dist. of each pt from the centroid\n",
    "dist_from_centroid1 =np.sum(np.square(x - centroid1.T), axis=1, keepdims=True)\n",
    "dist_from_centroid2 = np.sum(np.square(x - centroid2.T), axis=1, keepdims=True)"
   ]
  },
  {
   "cell_type": "code",
   "execution_count": 17,
   "metadata": {},
   "outputs": [],
   "source": [
    "u = np.argmin(np.hstack([dist_from_centroid1, dist_from_centroid2]), axis=1)"
   ]
  },
  {
   "cell_type": "code",
   "execution_count": 21,
   "metadata": {},
   "outputs": [],
   "source": [
    "# update the lables\n",
    "for i in range(m):\n",
    "    labels[i] = u[i]"
   ]
  },
  {
   "cell_type": "code",
   "execution_count": 29,
   "metadata": {},
   "outputs": [],
   "source": [
    "# Update the centroids \n",
    "x_labeled_0 = x[labels==0, :]\n",
    "x_labeled_1 = x[labels==1, :]\n",
    "\n",
    "if x_labeled_0.shape[0] > 0:\n",
    "    centroid1 = np.mean(x_labeled_0, axis=0)\n",
    "if x_labeled_1.shape[0] > 0:\n",
    "    centroid2 = np.mean(x_labeled_1, axis=0)"
   ]
  },
  {
   "cell_type": "code",
   "execution_count": 31,
   "metadata": {},
   "outputs": [
    {
     "data": {
      "text/plain": [
       "(array([1., 1.]), array([5.8, 1.6]))"
      ]
     },
     "execution_count": 31,
     "metadata": {},
     "output_type": "execute_result"
    }
   ],
   "source": [
    "centroid1, centroid2"
   ]
  },
  {
   "cell_type": "code",
   "execution_count": 32,
   "metadata": {},
   "outputs": [],
   "source": [
    "# Putting all together"
   ]
  },
  {
   "cell_type": "code",
   "execution_count": 34,
   "metadata": {},
   "outputs": [],
   "source": [
    "def k_means(x , no_of_centroids=2):\n",
    "    m, n = x.shape[0], x.shape[1]\n",
    "    \n",
    "    # initialize centroids randomly\n",
    "    centroid1 = np.random.randint(0,11, size=(n,1))\n",
    "    centroid2 = np.random.randint(0,11, size=(n,1))\n",
    "    \n",
    "    # Initialize lables\n",
    "    labels = np.repeat(0,m)\n",
    "    \n",
    "    i = 0\n",
    "    while i < 1000:\n",
    "        # compute dist. of each pt from the centroids\n",
    "        dist_from_centroid1 = np.sum(np.square(x-centroid1.T), axis=1, keepdims=True)\n",
    "        dist_from_centroid2 = np.sum(np.square(x-centroid2.T), axis=1, keepdims=True)\n",
    "        \n",
    "        # Label each pt based on computed dist\n",
    "        l = np.argmin(np.hstack([dist_from_centroid1, dist_from_centroid2]), axis=1)\n",
    "        \n",
    "        # update the labels\n",
    "        for j in range(m):\n",
    "            labels[j] = l[j]\n",
    "            \n",
    "        # update the labels\n",
    "        class_A = x[labels==0, :]\n",
    "        class_B = x[labels==1, :]\n",
    "        \n",
    "        if class_A.shape[0] > 0:\n",
    "            centroid1 = np.mean(class_A, axis=0)\n",
    "        if class_B.shape[0] > 0:\n",
    "            centroid2 = np.mean(class_B, axis=0)\n",
    "            \n",
    "        i += 1\n",
    "        \n",
    "    return labels"
   ]
  },
  {
   "cell_type": "code",
   "execution_count": 35,
   "metadata": {},
   "outputs": [
    {
     "data": {
      "text/plain": [
       "array([0, 0, 0, 0, 0, 0])"
      ]
     },
     "execution_count": 35,
     "metadata": {},
     "output_type": "execute_result"
    }
   ],
   "source": [
    "k_means(x)"
   ]
  },
  {
   "cell_type": "code",
   "execution_count": null,
   "metadata": {},
   "outputs": [],
   "source": []
  }
 ],
 "metadata": {
  "kernelspec": {
   "display_name": "Python 3",
   "language": "python",
   "name": "python3"
  },
  "language_info": {
   "codemirror_mode": {
    "name": "ipython",
    "version": 3
   },
   "file_extension": ".py",
   "mimetype": "text/x-python",
   "name": "python",
   "nbconvert_exporter": "python",
   "pygments_lexer": "ipython3",
   "version": "3.4.3"
  }
 },
 "nbformat": 4,
 "nbformat_minor": 2
}
