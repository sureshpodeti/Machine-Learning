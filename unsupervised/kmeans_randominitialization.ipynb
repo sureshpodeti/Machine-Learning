{
 "cells": [
  {
   "cell_type": "code",
   "execution_count": 25,
   "metadata": {},
   "outputs": [],
   "source": [
    "import numpy as np\n",
    "import matplotlib.pyplot as plt"
   ]
  },
  {
   "cell_type": "code",
   "execution_count": 101,
   "metadata": {},
   "outputs": [],
   "source": [
    "X = np.array([\n",
    "    [1,1],\n",
    "    [2,2],\n",
    "    [3,3],\n",
    "    [20,20],\n",
    "    [21, 21],\n",
    "    [22, 22],\n",
    "])"
   ]
  },
  {
   "cell_type": "code",
   "execution_count": 102,
   "metadata": {},
   "outputs": [
    {
     "data": {
      "image/png": "[encoded data removed]",
      "text/plain": [
       "<Figure size 432x288 with 1 Axes>"
      ]
     },
     "metadata": {
      "needs_background": "light"
     },
     "output_type": "display_data"
    }
   ],
   "source": [
    "fig, aux = plt.subplots()\n",
    "aux.plot(X[:, 0], X[:, 1], 'ro')\n",
    "plt.show()"
   ]
  },
  {
   "cell_type": "code",
   "execution_count": 103,
   "metadata": {},
   "outputs": [],
   "source": [
    "def kmeans(X, no_of_centroids=2):\n",
    "    no_of_steps = 100\n",
    "\n",
    "    (m,n) = X.shape\n",
    "\n",
    "    # initialize the centroids\n",
    "    centroid1,centroid2 = np.random.randint(0, 40, size=(1, n)), np.random.randint(0, 40, size=(1, n))\n",
    "\n",
    "    labels = None\n",
    "    for _ in range(no_of_steps):\n",
    "        # compute distances\n",
    "        distance1 =  np.sum((X - centroid1)**2, axis=1, keepdims=True)\n",
    "        distance2 = np.sum((X - centroid2)**2, axis=1, keepdims=True)\n",
    "\n",
    "        labels = np.argmin(np.hstack([distance1, distance2]), axis=1)\n",
    "\n",
    "        #update centroids\n",
    "        classA, classB = X[labels==0, :], X[labels==1, :]\n",
    "\n",
    "        if classA.shape[0]>0:\n",
    "            centroid1 = np.mean(classA, axis=0)\n",
    "        if classB.shape[0]>0:\n",
    "            centroid2 = np.mean(classB, axis=0)\n",
    "\n",
    "\n",
    "    return labels"
   ]
  },
  {
   "cell_type": "code",
   "execution_count": 105,
   "metadata": {},
   "outputs": [
    {
     "data": {
      "text/plain": [
       "array([1, 1, 1, 0, 0, 0])"
      ]
     },
     "execution_count": 105,
     "metadata": {},
     "output_type": "execute_result"
    }
   ],
   "source": [
    "no_of_centroids = 2\n",
    "kmeans(X, no_of_centroids)"
   ]
  }
 ],
 "metadata": {
  "kernelspec": {
   "display_name": "Python 3",
   "language": "python",
   "name": "python3"
  },
  "language_info": {
   "codemirror_mode": {
    "name": "ipython",
    "version": 3
   },
   "file_extension": ".py",
   "mimetype": "text/x-python",
   "name": "python",
   "nbconvert_exporter": "python",
   "pygments_lexer": "ipython3",
   "version": "3.6.8rc1"
  }
 },
 "nbformat": 4,
 "nbformat_minor": 2
}
