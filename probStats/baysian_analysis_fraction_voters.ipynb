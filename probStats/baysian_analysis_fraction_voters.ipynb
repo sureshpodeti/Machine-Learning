{
 "cells": [
  {
   "cell_type": "markdown",
   "metadata": {},
   "source": [
    "# Problem Statement:\n",
    " Two political parties A and B are contesting for upcomming elections. We would like to know percentage/fraction for people vote for party A.\n",
    " Obviously we cannot conduct survey on the large population in the country. We will  sample 10 people randomly and take their opinion. We will\n",
    " repeat this process say 100 times. \n",
    " \n",
    "Infer the fractions of votes party A would get."
   ]
  },
  {
   "cell_type": "code",
   "execution_count": 2,
   "metadata": {},
   "outputs": [],
   "source": [
    "import numpy as np\n",
    "import matplotlib.pyplot as plt"
   ]
  },
  {
   "cell_type": "code",
   "execution_count": 8,
   "metadata": {},
   "outputs": [],
   "source": [
    "# Let the fraction of  people who vote for party A be theta\n",
    "\n",
    "# Theta could be any thing between 0.0 to 1.0 we don't know certainly. There is uncertanity involved. Hence use probabillity\n",
    "\n",
    "theta = np.arange(0, 1.1, 0.1)\n",
    "n = theta.shape[0]\n",
    "\n",
    "# probability(theta)\n",
    "#  Since we don't know the prob(theta) take uniform distribution\n",
    "prob_theta = np.repeat(1/n, n)\n",
    "\n",
    "# Now, we have sampled let us say we have randomly sampled10 people from the population and took their opion.\n",
    "#  It is noted that 6 would vote for party A\n",
    "\n",
    "# Now, with the new piece of this information our initial assumption about the p(theta) should change according to bayes rule\n",
    "# p(A\\B) = p(B\\A) * p(A) / p(B)\n",
    "A, B = 6, 4\n",
    "prob_data_given_theta = theta**6 * (1- theta)**4 "
   ]
  },
  {
   "cell_type": "code",
   "execution_count": 20,
   "metadata": {},
   "outputs": [],
   "source": [
    "h = prob_data_given_theta*prob_theta\n",
    "z = np.sum(h)\n",
    "\n",
    "prob_theta_given_data = h/z"
   ]
  },
  {
   "cell_type": "code",
   "execution_count": 24,
   "metadata": {},
   "outputs": [
    {
     "data": {
      "image/png": "[encoded data removed]",
      "text/plain": [
       "<Figure size 432x288 with 1 Axes>"
      ]
     },
     "metadata": {},
     "output_type": "display_data"
    }
   ],
   "source": [
    "plt.subplot(212)\n",
    "plt.plot(theta, prob_theta, 'bo')\n",
    "plt.plot(theta,  prob_theta_given_data, 'r')\n",
    "plt.show()"
   ]
  },
  {
   "cell_type": "code",
   "execution_count": 26,
   "metadata": {},
   "outputs": [
    {
     "data": {
      "text/plain": [
       "array([0.6])"
      ]
     },
     "execution_count": 26,
     "metadata": {},
     "output_type": "execute_result"
    }
   ],
   "source": [
    "theta[prob_theta_given_data == np.max(prob_theta_given_data)]"
   ]
  },
  {
   "cell_type": "code",
   "execution_count": 74,
   "metadata": {},
   "outputs": [],
   "source": [
    "theta = np.arange(0,1.1,0.1)\n",
    "\n",
    "n = theta.shape[0]\n",
    "prior = np.repeat(1/n, n)"
   ]
  },
  {
   "cell_type": "code",
   "execution_count": 75,
   "metadata": {},
   "outputs": [],
   "source": [
    "no_of_iterations = 0\n",
    "while no_of_iterations < 100:\n",
    "    # sample 10 people and ask opinion to compute fraction vote for A\n",
    "    u = np.random.randint(0,11)\n",
    "    v = 10 - u\n",
    "    \n",
    "    # compute the likelihood\n",
    "    likelihood = theta**u * (1-theta)**v\n",
    "    \n",
    "    # likelihood* prior\n",
    "    h = likelihood*prior    \n",
    "    \n",
    "    # normalization\n",
    "    z = np.sum(h)\n",
    "    \n",
    "    posterior = h/z\n",
    "    \n",
    "    prior  = posterior\n",
    "    no_of_iterations += 1"
   ]
  },
  {
   "cell_type": "code",
   "execution_count": 76,
   "metadata": {},
   "outputs": [
    {
     "data": {
      "text/plain": [
       "array([0.00000000e+000, 1.03270888e-219, 7.87348426e-096, 1.75215848e-037,\n",
       "       4.61201058e-009, 9.99999995e-001, 4.04895305e-010, 1.08570709e-039,\n",
       "       1.92223737e-099, 1.94322394e-225, 0.00000000e+000])"
      ]
     },
     "execution_count": 76,
     "metadata": {},
     "output_type": "execute_result"
    }
   ],
   "source": [
    "posterior"
   ]
  },
  {
   "cell_type": "code",
   "execution_count": 78,
   "metadata": {},
   "outputs": [
    {
     "data": {
      "text/plain": [
       "array([0.5])"
      ]
     },
     "execution_count": 78,
     "metadata": {},
     "output_type": "execute_result"
    }
   ],
   "source": [
    "theta[posterior== np.max(posterior)]"
   ]
  },
  {
   "cell_type": "code",
   "execution_count": null,
   "metadata": {},
   "outputs": [],
   "source": [
    "# Hence, There is high chance of 0.5 fraction or 50% will vote for party A"
   ]
  }
 ],
 "metadata": {
  "kernelspec": {
   "display_name": "Python 3",
   "language": "python",
   "name": "python3"
  },
  "language_info": {
   "codemirror_mode": {
    "name": "ipython",
    "version": 3
   },
   "file_extension": ".py",
   "mimetype": "text/x-python",
   "name": "python",
   "nbconvert_exporter": "python",
   "pygments_lexer": "ipython3",
   "version": "3.4.3"
  }
 },
 "nbformat": 4,
 "nbformat_minor": 2
}
