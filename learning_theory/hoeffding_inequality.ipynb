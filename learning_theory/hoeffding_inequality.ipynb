{
 "cells": [
  {
   "cell_type": "markdown",
   "metadata": {},
   "source": [
    "# Hoeffding inequality"
   ]
  },
  {
   "cell_type": "markdown",
   "metadata": {},
   "source": [
    "Suppose we have size=1000 baised identical coins, and probability of getting head=pi.\n",
    "\n",
    "Now, toss those 1000 coins to take the reading that shows up. At each trail compute the fraction of heads ( head=1, tails =0) ( call it pi_hat).\n",
    "now we have array of 100 fractions of heads\n",
    "\n",
    "If we observe the distribution of pi_hat, more values are closer to the pi."
   ]
  },
  {
   "cell_type": "code",
   "execution_count": 2,
   "metadata": {},
   "outputs": [],
   "source": [
    "import numpy as np\n",
    "import matplotlib.pyplot as plt\n",
    "from scipy.stats import bernoulli"
   ]
  },
  {
   "cell_type": "code",
   "execution_count": 3,
   "metadata": {},
   "outputs": [],
   "source": [
    "# define pi , size, trails\n",
    "pi, size, trails = 0.3, 1000, 100\n",
    "\n",
    "# define matrix of 1000 trail results \n",
    "r = bernoulli.rvs(p=pi, size=size*trails)\n",
    "r = np.reshape(r, (trails, size))"
   ]
  },
  {
   "cell_type": "code",
   "execution_count": 6,
   "metadata": {},
   "outputs": [],
   "source": [
    "# get the pi_hat\n",
    "pi_hat  = np.sum(r, axis=1)/size"
   ]
  },
  {
   "cell_type": "code",
   "execution_count": 9,
   "metadata": {},
   "outputs": [
    {
     "data": {
      "image/png": "[encoded data removed]",
      "text/plain": [
       "<Figure size 432x288 with 1 Axes>"
      ]
     },
     "metadata": {},
     "output_type": "display_data"
    }
   ],
   "source": [
    "# plot the graph \n",
    "fig, aux = plt.subplots()\n",
    "aux.plot(pi_hat, np.repeat(0, trails), 'bo')\n",
    "plt.show()"
   ]
  },
  {
   "cell_type": "markdown",
   "metadata": {},
   "source": [
    "High chance of getting values near the real pi"
   ]
  },
  {
   "cell_type": "markdown",
   "metadata": {},
   "source": [
    "Hoeffding inequality:\n",
    "\n",
    "       p(|pi_hat - pi| > gamma) <= 2exp(-2*gamma^2 *m) \n",
    "       \n",
    "       where, gamma is constant 0<gamma < 1\n",
    "       \n",
    "       m - #.of examples/trails\n",
    "       "
   ]
  },
  {
   "cell_type": "code",
   "execution_count": 10,
   "metadata": {},
   "outputs": [],
   "source": [
    "# define gamma\n",
    "gamma = 0.01\n",
    "\n",
    "m = 100\n",
    "right_term = 2*np.exp(-2*gamma**2 * m)"
   ]
  },
  {
   "cell_type": "code",
   "execution_count": 11,
   "metadata": {},
   "outputs": [
    {
     "data": {
      "text/plain": [
       "1.9603973466135105"
      ]
     },
     "execution_count": 11,
     "metadata": {},
     "output_type": "execute_result"
    }
   ],
   "source": [
    "right_term"
   ]
  },
  {
   "cell_type": "code",
   "execution_count": 12,
   "metadata": {},
   "outputs": [],
   "source": [
    "m = 1000000\n",
    "right_term = 2*np.exp(-2*gamma**2 * m)"
   ]
  },
  {
   "cell_type": "code",
   "execution_count": 13,
   "metadata": {},
   "outputs": [
    {
     "data": {
      "text/plain": [
       "2.767793053473475e-87"
      ]
     },
     "execution_count": 13,
     "metadata": {},
     "output_type": "execute_result"
    }
   ],
   "source": [
    "right_term"
   ]
  },
  {
   "cell_type": "markdown",
   "metadata": {},
   "source": [
    "For large training size right_term ( 2*np.exp(-2*gamma**2 *m)) is very low. "
   ]
  },
  {
   "cell_type": "code",
   "execution_count": null,
   "metadata": {},
   "outputs": [],
   "source": []
  }
 ],
 "metadata": {
  "kernelspec": {
   "display_name": "Python 3",
   "language": "python",
   "name": "python3"
  },
  "language_info": {
   "codemirror_mode": {
    "name": "ipython",
    "version": 3
   },
   "file_extension": ".py",
   "mimetype": "text/x-python",
   "name": "python",
   "nbconvert_exporter": "python",
   "pygments_lexer": "ipython3",
   "version": "3.4.3"
  }
 },
 "nbformat": 4,
 "nbformat_minor": 2
}
