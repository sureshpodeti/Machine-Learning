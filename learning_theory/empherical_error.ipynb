{
 "cells": [
  {
   "cell_type": "markdown",
   "metadata": {},
   "source": [
    "# Empherical error"
   ]
  },
  {
   "cell_type": "markdown",
   "metadata": {},
   "source": [
    "Suppose we have come up with the hypothesis h(x) i.e theta's';\n",
    "\n",
    "Suppose we have sampled m (x,y)'s from some population:\n",
    "\n",
    "Now our task is to estimate the empherical error:\n",
    "\n",
    "Empherical error:\n",
    "\n",
    "      In case of linear regression:    m\n",
    "             Empherical error = (1/m) Σ   [h(x(i)) - y(i)]^2  , where m = #.of samples\n",
    "                                                          i=1\n",
    "    \n",
    "      In case of logistic regression:\n",
    "                                                       m\n",
    "             Empherical error: (1/m) Σ   I[h(x(i))≠y(i)]  , where m = #.of samples , I is indicator function\n",
    "                                                          i=1"
   ]
  },
  {
   "cell_type": "code",
   "execution_count": null,
   "metadata": {},
   "outputs": [],
   "source": []
  }
 ],
 "metadata": {
  "kernelspec": {
   "display_name": "Python 3",
   "language": "python",
   "name": "python3"
  },
  "language_info": {
   "codemirror_mode": {
    "name": "ipython",
    "version": 3
   },
   "file_extension": ".py",
   "mimetype": "text/x-python",
   "name": "python",
   "nbconvert_exporter": "python",
   "pygments_lexer": "ipython3",
   "version": "3.4.3"
  }
 },
 "nbformat": 4,
 "nbformat_minor": 2
}
