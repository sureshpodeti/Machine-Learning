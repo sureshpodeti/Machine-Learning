{
 "cells": [
  {
   "cell_type": "markdown",
   "metadata": {},
   "source": [
    "# Expected error"
   ]
  },
  {
   "attachments": {
    "formula.png": {
     "image/png": "[encoded data removed]"
    }
   },
   "cell_type": "markdown",
   "metadata": {},
   "source": [
    "In a learning problem, the goal is to develop a function  f(x) that predicts output values y based on some input data x. The expected error, I[f(x)] of a particular function f(x) over all possible values of  x and y is:\n",
    "\n",
    "![formula.png](attachment:formula.png)\n"
   ]
  },
  {
   "cell_type": "markdown",
   "metadata": {},
   "source": [
    "where V denotes a loss function ( In case of regression it is sum of least squares; In case of logistic regression it is fraction of correct answers) and rho(x,y) is the unknown joint probability distribution for x and y.\n",
    "\n",
    "Without knowing the joint probability distribution, it is impossible to compute I[f(x)]. "
   ]
  },
  {
   "cell_type": "code",
   "execution_count": null,
   "metadata": {},
   "outputs": [],
   "source": []
  }
 ],
 "metadata": {
  "kernelspec": {
   "display_name": "Python 3",
   "language": "python",
   "name": "python3"
  },
  "language_info": {
   "codemirror_mode": {
    "name": "ipython",
    "version": 3
   },
   "file_extension": ".py",
   "mimetype": "text/x-python",
   "name": "python",
   "nbconvert_exporter": "python",
   "pygments_lexer": "ipython3",
   "version": "3.4.3"
  }
 },
 "nbformat": 4,
 "nbformat_minor": 2
}
