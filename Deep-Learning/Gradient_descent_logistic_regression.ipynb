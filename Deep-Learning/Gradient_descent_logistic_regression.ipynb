{
 "cells": [
  {
   "cell_type": "code",
   "execution_count": 11,
   "metadata": {},
   "outputs": [],
   "source": [
    "import numpy as np\n",
    "from sklearn import datasets, preprocessing, model_selection"
   ]
  },
  {
   "cell_type": "code",
   "execution_count": 24,
   "metadata": {},
   "outputs": [],
   "source": [
    "# Load iris dataset\n",
    "iris = datasets.load_iris()\n",
    "x = iris.data[:100, :]\n",
    "y = iris.target[:100]\n",
    "\n",
    "# scale the  data\n",
    "x = preprocessing.scale(x)\n",
    "\n",
    "# split the data into train and test\n",
    "x_train, x_test, y_train, y_test = model_selection.train_test_split(x, y, test_size=0.3, random_state=42)"
   ]
  },
  {
   "cell_type": "code",
   "execution_count": 25,
   "metadata": {},
   "outputs": [],
   "source": [
    "def gradient_descent(x, y, alpha=0.01):\n",
    "    m, n = x.shape[0], x.shape[1]\n",
    "    # Convert the data into some other form \n",
    "    x = x.T # shape: (n,m)\n",
    "    y = np.reshape(y, (1,m)) # shape: (1,m)\n",
    "    \n",
    "    no_of_iterations = 0\n",
    "    \n",
    "    # initialization\n",
    "    J = 0 # Cost function\n",
    "    w, b = np.zeros((n,1)), 0\n",
    "\n",
    "    while no_of_iterations<1000:\n",
    "        # compute z = w.T * x + b\n",
    "        z = np.dot(w.T, x) + b # shape: (1,m)\n",
    "        \n",
    "        # compute a = sigma(z), sigmoid activations \n",
    "        A = 1/(1+np.exp(-z)) # shape: (1,m)\n",
    "    \n",
    "        # compute dz = A - Y \n",
    "        dz = A - y # shape: (1,m)\n",
    "        \n",
    "        # compute dw and db\n",
    "        dw = (1/m)*np.dot(x, dz.T)\n",
    "        \n",
    "        db = (1/m)*np.sum(dz)\n",
    "\n",
    "        \n",
    "        # update the parameters\n",
    "        w -= alpha*dw\n",
    "        b -= alpha*db\n",
    "        \n",
    "        no_of_iterations += 1\n",
    "        \n",
    "    return (w, b)\n",
    "        "
   ]
  },
  {
   "cell_type": "code",
   "execution_count": 26,
   "metadata": {},
   "outputs": [
    {
     "data": {
      "text/plain": [
       "(array([[ 0.75221154],\n",
       "        [-0.83242519],\n",
       "        [ 1.1153857 ],\n",
       "        [ 1.13539982]]), 0.0992138974380703)"
      ]
     },
     "execution_count": 26,
     "metadata": {},
     "output_type": "execute_result"
    }
   ],
   "source": [
    "gradient_descent(x_train, y_train, 0.01)"
   ]
  }
 ],
 "metadata": {
  "kernelspec": {
   "display_name": "Python 3",
   "language": "python",
   "name": "python3"
  },
  "language_info": {
   "codemirror_mode": {
    "name": "ipython",
    "version": 3
   },
   "file_extension": ".py",
   "mimetype": "text/x-python",
   "name": "python",
   "nbconvert_exporter": "python",
   "pygments_lexer": "ipython3",
   "version": "3.4.3"
  }
 },
 "nbformat": 4,
 "nbformat_minor": 2
}
